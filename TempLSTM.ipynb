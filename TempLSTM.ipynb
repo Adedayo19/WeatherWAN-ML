{
  "nbformat": 4,
  "nbformat_minor": 0,
  "metadata": {
    "colab": {
      "provenance": []
    },
    "kernelspec": {
      "name": "python3",
      "display_name": "Python 3"
    },
    "language_info": {
      "name": "python"
    },
    "accelerator": "GPU",
    "gpuClass": "standard"
  },
  "cells": [
    {
      "cell_type": "code",
      "execution_count": null,
      "metadata": {
        "id": "qYpiBnWOo3ga"
      },
      "outputs": [],
      "source": [
        "import numpy as np\n",
        "import pandas as pd\n",
        "import seaborn as sns\n",
        "from statsmodels.tsa.seasonal import seasonal_decompose \n",
        "import matplotlib.pyplot as plt\n",
        "%matplotlib inline\n",
        "import itertools\n",
        "import warnings\n",
        "warnings.filterwarnings('ignore')"
      ]
    },
    {
      "cell_type": "code",
      "source": [
        "df = pd.read_csv(\"weatherHistory.csv\")\n",
        "df.head()"
      ],
      "metadata": {
        "colab": {
          "base_uri": "https://localhost:8080/",
          "height": 565
        },
        "id": "XbM5PiSZo-Zb",
        "outputId": "be8c3e67-72f6-43d5-cd6c-c4dc634145c2"
      },
      "execution_count": null,
      "outputs": [
        {
          "output_type": "execute_result",
          "data": {
            "text/plain": [
              "                  Formatted Date        Summary Precip Type  Temperature (C)  \\\n",
              "0  2006-04-01 00:00:00.000 +0200  Partly Cloudy        rain         9.472222   \n",
              "1  2006-04-01 01:00:00.000 +0200  Partly Cloudy        rain         9.355556   \n",
              "2  2006-04-01 02:00:00.000 +0200  Mostly Cloudy        rain         9.377778   \n",
              "3  2006-04-01 03:00:00.000 +0200  Partly Cloudy        rain         8.288889   \n",
              "4  2006-04-01 04:00:00.000 +0200  Mostly Cloudy        rain         8.755556   \n",
              "\n",
              "   Apparent Temperature (C)  Humidity  Wind Speed (km/h)  \\\n",
              "0                  7.388889      0.89            14.1197   \n",
              "1                  7.227778      0.86            14.2646   \n",
              "2                  9.377778      0.89             3.9284   \n",
              "3                  5.944444      0.83            14.1036   \n",
              "4                  6.977778      0.83            11.0446   \n",
              "\n",
              "   Wind Bearing (degrees)  Visibility (km)  Loud Cover  Pressure (millibars)  \\\n",
              "0                   251.0          15.8263         0.0               1015.13   \n",
              "1                   259.0          15.8263         0.0               1015.63   \n",
              "2                   204.0          14.9569         0.0               1015.94   \n",
              "3                   269.0          15.8263         0.0               1016.41   \n",
              "4                   259.0          15.8263         0.0               1016.51   \n",
              "\n",
              "                       Daily Summary  \n",
              "0  Partly cloudy throughout the day.  \n",
              "1  Partly cloudy throughout the day.  \n",
              "2  Partly cloudy throughout the day.  \n",
              "3  Partly cloudy throughout the day.  \n",
              "4  Partly cloudy throughout the day.  "
            ],
            "text/html": [
              "\n",
              "  <div id=\"df-fbeb781d-55c5-451a-8e1d-3de36247d0bd\">\n",
              "    <div class=\"colab-df-container\">\n",
              "      <div>\n",
              "<style scoped>\n",
              "    .dataframe tbody tr th:only-of-type {\n",
              "        vertical-align: middle;\n",
              "    }\n",
              "\n",
              "    .dataframe tbody tr th {\n",
              "        vertical-align: top;\n",
              "    }\n",
              "\n",
              "    .dataframe thead th {\n",
              "        text-align: right;\n",
              "    }\n",
              "</style>\n",
              "<table border=\"1\" class=\"dataframe\">\n",
              "  <thead>\n",
              "    <tr style=\"text-align: right;\">\n",
              "      <th></th>\n",
              "      <th>Formatted Date</th>\n",
              "      <th>Summary</th>\n",
              "      <th>Precip Type</th>\n",
              "      <th>Temperature (C)</th>\n",
              "      <th>Apparent Temperature (C)</th>\n",
              "      <th>Humidity</th>\n",
              "      <th>Wind Speed (km/h)</th>\n",
              "      <th>Wind Bearing (degrees)</th>\n",
              "      <th>Visibility (km)</th>\n",
              "      <th>Loud Cover</th>\n",
              "      <th>Pressure (millibars)</th>\n",
              "      <th>Daily Summary</th>\n",
              "    </tr>\n",
              "  </thead>\n",
              "  <tbody>\n",
              "    <tr>\n",
              "      <th>0</th>\n",
              "      <td>2006-04-01 00:00:00.000 +0200</td>\n",
              "      <td>Partly Cloudy</td>\n",
              "      <td>rain</td>\n",
              "      <td>9.472222</td>\n",
              "      <td>7.388889</td>\n",
              "      <td>0.89</td>\n",
              "      <td>14.1197</td>\n",
              "      <td>251.0</td>\n",
              "      <td>15.8263</td>\n",
              "      <td>0.0</td>\n",
              "      <td>1015.13</td>\n",
              "      <td>Partly cloudy throughout the day.</td>\n",
              "    </tr>\n",
              "    <tr>\n",
              "      <th>1</th>\n",
              "      <td>2006-04-01 01:00:00.000 +0200</td>\n",
              "      <td>Partly Cloudy</td>\n",
              "      <td>rain</td>\n",
              "      <td>9.355556</td>\n",
              "      <td>7.227778</td>\n",
              "      <td>0.86</td>\n",
              "      <td>14.2646</td>\n",
              "      <td>259.0</td>\n",
              "      <td>15.8263</td>\n",
              "      <td>0.0</td>\n",
              "      <td>1015.63</td>\n",
              "      <td>Partly cloudy throughout the day.</td>\n",
              "    </tr>\n",
              "    <tr>\n",
              "      <th>2</th>\n",
              "      <td>2006-04-01 02:00:00.000 +0200</td>\n",
              "      <td>Mostly Cloudy</td>\n",
              "      <td>rain</td>\n",
              "      <td>9.377778</td>\n",
              "      <td>9.377778</td>\n",
              "      <td>0.89</td>\n",
              "      <td>3.9284</td>\n",
              "      <td>204.0</td>\n",
              "      <td>14.9569</td>\n",
              "      <td>0.0</td>\n",
              "      <td>1015.94</td>\n",
              "      <td>Partly cloudy throughout the day.</td>\n",
              "    </tr>\n",
              "    <tr>\n",
              "      <th>3</th>\n",
              "      <td>2006-04-01 03:00:00.000 +0200</td>\n",
              "      <td>Partly Cloudy</td>\n",
              "      <td>rain</td>\n",
              "      <td>8.288889</td>\n",
              "      <td>5.944444</td>\n",
              "      <td>0.83</td>\n",
              "      <td>14.1036</td>\n",
              "      <td>269.0</td>\n",
              "      <td>15.8263</td>\n",
              "      <td>0.0</td>\n",
              "      <td>1016.41</td>\n",
              "      <td>Partly cloudy throughout the day.</td>\n",
              "    </tr>\n",
              "    <tr>\n",
              "      <th>4</th>\n",
              "      <td>2006-04-01 04:00:00.000 +0200</td>\n",
              "      <td>Mostly Cloudy</td>\n",
              "      <td>rain</td>\n",
              "      <td>8.755556</td>\n",
              "      <td>6.977778</td>\n",
              "      <td>0.83</td>\n",
              "      <td>11.0446</td>\n",
              "      <td>259.0</td>\n",
              "      <td>15.8263</td>\n",
              "      <td>0.0</td>\n",
              "      <td>1016.51</td>\n",
              "      <td>Partly cloudy throughout the day.</td>\n",
              "    </tr>\n",
              "  </tbody>\n",
              "</table>\n",
              "</div>\n",
              "      <button class=\"colab-df-convert\" onclick=\"convertToInteractive('df-fbeb781d-55c5-451a-8e1d-3de36247d0bd')\"\n",
              "              title=\"Convert this dataframe to an interactive table.\"\n",
              "              style=\"display:none;\">\n",
              "        \n",
              "  <svg xmlns=\"http://www.w3.org/2000/svg\" height=\"24px\"viewBox=\"0 0 24 24\"\n",
              "       width=\"24px\">\n",
              "    <path d=\"M0 0h24v24H0V0z\" fill=\"none\"/>\n",
              "    <path d=\"M18.56 5.44l.94 2.06.94-2.06 2.06-.94-2.06-.94-.94-2.06-.94 2.06-2.06.94zm-11 1L8.5 8.5l.94-2.06 2.06-.94-2.06-.94L8.5 2.5l-.94 2.06-2.06.94zm10 10l.94 2.06.94-2.06 2.06-.94-2.06-.94-.94-2.06-.94 2.06-2.06.94z\"/><path d=\"M17.41 7.96l-1.37-1.37c-.4-.4-.92-.59-1.43-.59-.52 0-1.04.2-1.43.59L10.3 9.45l-7.72 7.72c-.78.78-.78 2.05 0 2.83L4 21.41c.39.39.9.59 1.41.59.51 0 1.02-.2 1.41-.59l7.78-7.78 2.81-2.81c.8-.78.8-2.07 0-2.86zM5.41 20L4 18.59l7.72-7.72 1.47 1.35L5.41 20z\"/>\n",
              "  </svg>\n",
              "      </button>\n",
              "      \n",
              "  <style>\n",
              "    .colab-df-container {\n",
              "      display:flex;\n",
              "      flex-wrap:wrap;\n",
              "      gap: 12px;\n",
              "    }\n",
              "\n",
              "    .colab-df-convert {\n",
              "      background-color: #E8F0FE;\n",
              "      border: none;\n",
              "      border-radius: 50%;\n",
              "      cursor: pointer;\n",
              "      display: none;\n",
              "      fill: #1967D2;\n",
              "      height: 32px;\n",
              "      padding: 0 0 0 0;\n",
              "      width: 32px;\n",
              "    }\n",
              "\n",
              "    .colab-df-convert:hover {\n",
              "      background-color: #E2EBFA;\n",
              "      box-shadow: 0px 1px 2px rgba(60, 64, 67, 0.3), 0px 1px 3px 1px rgba(60, 64, 67, 0.15);\n",
              "      fill: #174EA6;\n",
              "    }\n",
              "\n",
              "    [theme=dark] .colab-df-convert {\n",
              "      background-color: #3B4455;\n",
              "      fill: #D2E3FC;\n",
              "    }\n",
              "\n",
              "    [theme=dark] .colab-df-convert:hover {\n",
              "      background-color: #434B5C;\n",
              "      box-shadow: 0px 1px 3px 1px rgba(0, 0, 0, 0.15);\n",
              "      filter: drop-shadow(0px 1px 2px rgba(0, 0, 0, 0.3));\n",
              "      fill: #FFFFFF;\n",
              "    }\n",
              "  </style>\n",
              "\n",
              "      <script>\n",
              "        const buttonEl =\n",
              "          document.querySelector('#df-fbeb781d-55c5-451a-8e1d-3de36247d0bd button.colab-df-convert');\n",
              "        buttonEl.style.display =\n",
              "          google.colab.kernel.accessAllowed ? 'block' : 'none';\n",
              "\n",
              "        async function convertToInteractive(key) {\n",
              "          const element = document.querySelector('#df-fbeb781d-55c5-451a-8e1d-3de36247d0bd');\n",
              "          const dataTable =\n",
              "            await google.colab.kernel.invokeFunction('convertToInteractive',\n",
              "                                                     [key], {});\n",
              "          if (!dataTable) return;\n",
              "\n",
              "          const docLinkHtml = 'Like what you see? Visit the ' +\n",
              "            '<a target=\"_blank\" href=https://colab.research.google.com/notebooks/data_table.ipynb>data table notebook</a>'\n",
              "            + ' to learn more about interactive tables.';\n",
              "          element.innerHTML = '';\n",
              "          dataTable['output_type'] = 'display_data';\n",
              "          await google.colab.output.renderOutput(dataTable, element);\n",
              "          const docLink = document.createElement('div');\n",
              "          docLink.innerHTML = docLinkHtml;\n",
              "          element.appendChild(docLink);\n",
              "        }\n",
              "      </script>\n",
              "    </div>\n",
              "  </div>\n",
              "  "
            ]
          },
          "metadata": {},
          "execution_count": 32
        }
      ]
    },
    {
      "cell_type": "code",
      "source": [
        "def ExtractYear(x):  \n",
        "  ans = x.split(\"+\") \n",
        "  return ans[0]"
      ],
      "metadata": {
        "id": "WOyU4xtcplYy"
      },
      "execution_count": null,
      "outputs": []
    },
    {
      "cell_type": "code",
      "source": [
        "df[\"Date\"] = df[\"Formatted Date\"].apply(ExtractYear)\n",
        "df.drop(\"Formatted Date\",axis=1, inplace=True)"
      ],
      "metadata": {
        "id": "aAgL1j9QppD3"
      },
      "execution_count": null,
      "outputs": []
    },
    {
      "cell_type": "code",
      "source": [
        "df.index = pd.to_datetime(df['Date'], format='%Y-%m-%d %H:%M:%S')\n",
        "df[:26]"
      ],
      "metadata": {
        "colab": {
          "base_uri": "https://localhost:8080/",
          "height": 1000
        },
        "id": "OEt3UWMYprCw",
        "outputId": "030a9fc0-878d-414a-845b-ee37f2f5f78a"
      },
      "execution_count": null,
      "outputs": [
        {
          "output_type": "execute_result",
          "data": {
            "text/plain": [
              "                           Summary Precip Type  Temperature (C)  \\\n",
              "Date                                                              \n",
              "2006-04-01 00:00:00  Partly Cloudy        rain         9.472222   \n",
              "2006-04-01 01:00:00  Partly Cloudy        rain         9.355556   \n",
              "2006-04-01 02:00:00  Mostly Cloudy        rain         9.377778   \n",
              "2006-04-01 03:00:00  Partly Cloudy        rain         8.288889   \n",
              "2006-04-01 04:00:00  Mostly Cloudy        rain         8.755556   \n",
              "2006-04-01 05:00:00  Partly Cloudy        rain         9.222222   \n",
              "2006-04-01 06:00:00  Partly Cloudy        rain         7.733333   \n",
              "2006-04-01 07:00:00  Partly Cloudy        rain         8.772222   \n",
              "2006-04-01 08:00:00  Partly Cloudy        rain        10.822222   \n",
              "2006-04-01 09:00:00  Partly Cloudy        rain        13.772222   \n",
              "2006-04-01 10:00:00  Partly Cloudy        rain        16.016667   \n",
              "2006-04-01 11:00:00  Partly Cloudy        rain        17.144444   \n",
              "2006-04-01 12:00:00  Partly Cloudy        rain        17.800000   \n",
              "2006-04-01 13:00:00  Partly Cloudy        rain        17.333333   \n",
              "2006-04-01 14:00:00  Partly Cloudy        rain        18.877778   \n",
              "2006-04-01 15:00:00  Partly Cloudy        rain        18.911111   \n",
              "2006-04-01 16:00:00  Partly Cloudy        rain        15.388889   \n",
              "2006-04-01 17:00:00  Mostly Cloudy        rain        15.550000   \n",
              "2006-04-01 18:00:00  Mostly Cloudy        rain        14.255556   \n",
              "2006-04-01 19:00:00  Mostly Cloudy        rain        13.144444   \n",
              "2006-04-01 20:00:00  Mostly Cloudy        rain        11.550000   \n",
              "2006-04-01 21:00:00  Mostly Cloudy        rain        11.183333   \n",
              "2006-04-01 22:00:00  Partly Cloudy        rain        10.116667   \n",
              "2006-04-01 23:00:00  Mostly Cloudy        rain        10.200000   \n",
              "2006-04-10 00:00:00  Partly Cloudy        rain        10.422222   \n",
              "2006-04-10 01:00:00  Partly Cloudy        rain         9.911111   \n",
              "\n",
              "                     Apparent Temperature (C)  Humidity  Wind Speed (km/h)  \\\n",
              "Date                                                                         \n",
              "2006-04-01 00:00:00                  7.388889      0.89            14.1197   \n",
              "2006-04-01 01:00:00                  7.227778      0.86            14.2646   \n",
              "2006-04-01 02:00:00                  9.377778      0.89             3.9284   \n",
              "2006-04-01 03:00:00                  5.944444      0.83            14.1036   \n",
              "2006-04-01 04:00:00                  6.977778      0.83            11.0446   \n",
              "2006-04-01 05:00:00                  7.111111      0.85            13.9587   \n",
              "2006-04-01 06:00:00                  5.522222      0.95            12.3648   \n",
              "2006-04-01 07:00:00                  6.527778      0.89            14.1519   \n",
              "2006-04-01 08:00:00                 10.822222      0.82            11.3183   \n",
              "2006-04-01 09:00:00                 13.772222      0.72            12.5258   \n",
              "2006-04-01 10:00:00                 16.016667      0.67            17.5651   \n",
              "2006-04-01 11:00:00                 17.144444      0.54            19.7869   \n",
              "2006-04-01 12:00:00                 17.800000      0.55            21.9443   \n",
              "2006-04-01 13:00:00                 17.333333      0.51            20.6885   \n",
              "2006-04-01 14:00:00                 18.877778      0.47            15.3755   \n",
              "2006-04-01 15:00:00                 18.911111      0.46            10.4006   \n",
              "2006-04-01 16:00:00                 15.388889      0.60            14.4095   \n",
              "2006-04-01 17:00:00                 15.550000      0.63            11.1573   \n",
              "2006-04-01 18:00:00                 14.255556      0.69             8.5169   \n",
              "2006-04-01 19:00:00                 13.144444      0.70             7.6314   \n",
              "2006-04-01 20:00:00                 11.550000      0.77             7.3899   \n",
              "2006-04-01 21:00:00                 11.183333      0.76             4.9266   \n",
              "2006-04-01 22:00:00                 10.116667      0.79             6.6493   \n",
              "2006-04-01 23:00:00                 10.200000      0.77             3.9284   \n",
              "2006-04-10 00:00:00                 10.422222      0.62            16.9855   \n",
              "2006-04-10 01:00:00                  7.566667      0.66            17.2109   \n",
              "\n",
              "                     Wind Bearing (degrees)  Visibility (km)  Loud Cover  \\\n",
              "Date                                                                       \n",
              "2006-04-01 00:00:00                   251.0          15.8263         0.0   \n",
              "2006-04-01 01:00:00                   259.0          15.8263         0.0   \n",
              "2006-04-01 02:00:00                   204.0          14.9569         0.0   \n",
              "2006-04-01 03:00:00                   269.0          15.8263         0.0   \n",
              "2006-04-01 04:00:00                   259.0          15.8263         0.0   \n",
              "2006-04-01 05:00:00                   258.0          14.9569         0.0   \n",
              "2006-04-01 06:00:00                   259.0           9.9820         0.0   \n",
              "2006-04-01 07:00:00                   260.0           9.9820         0.0   \n",
              "2006-04-01 08:00:00                   259.0           9.9820         0.0   \n",
              "2006-04-01 09:00:00                   279.0           9.9820         0.0   \n",
              "2006-04-01 10:00:00                   290.0          11.2056         0.0   \n",
              "2006-04-01 11:00:00                   316.0          11.4471         0.0   \n",
              "2006-04-01 12:00:00                   281.0          11.2700         0.0   \n",
              "2006-04-01 13:00:00                   289.0          11.2700         0.0   \n",
              "2006-04-01 14:00:00                   262.0          11.4471         0.0   \n",
              "2006-04-01 15:00:00                   288.0          11.2700         0.0   \n",
              "2006-04-01 16:00:00                   251.0          11.2700         0.0   \n",
              "2006-04-01 17:00:00                   230.0          11.4471         0.0   \n",
              "2006-04-01 18:00:00                   163.0          11.2056         0.0   \n",
              "2006-04-01 19:00:00                   139.0          11.2056         0.0   \n",
              "2006-04-01 20:00:00                   147.0          11.0285         0.0   \n",
              "2006-04-01 21:00:00                   160.0           9.9820         0.0   \n",
              "2006-04-01 22:00:00                   163.0          15.8263         0.0   \n",
              "2006-04-01 23:00:00                   152.0          14.9569         0.0   \n",
              "2006-04-10 00:00:00                   150.0          15.8263         0.0   \n",
              "2006-04-10 01:00:00                   149.0          15.8263         0.0   \n",
              "\n",
              "                     Pressure (millibars)                      Daily Summary  \\\n",
              "Date                                                                           \n",
              "2006-04-01 00:00:00               1015.13  Partly cloudy throughout the day.   \n",
              "2006-04-01 01:00:00               1015.63  Partly cloudy throughout the day.   \n",
              "2006-04-01 02:00:00               1015.94  Partly cloudy throughout the day.   \n",
              "2006-04-01 03:00:00               1016.41  Partly cloudy throughout the day.   \n",
              "2006-04-01 04:00:00               1016.51  Partly cloudy throughout the day.   \n",
              "2006-04-01 05:00:00               1016.66  Partly cloudy throughout the day.   \n",
              "2006-04-01 06:00:00               1016.72  Partly cloudy throughout the day.   \n",
              "2006-04-01 07:00:00               1016.84  Partly cloudy throughout the day.   \n",
              "2006-04-01 08:00:00               1017.37  Partly cloudy throughout the day.   \n",
              "2006-04-01 09:00:00               1017.22  Partly cloudy throughout the day.   \n",
              "2006-04-01 10:00:00               1017.42  Partly cloudy throughout the day.   \n",
              "2006-04-01 11:00:00               1017.74  Partly cloudy throughout the day.   \n",
              "2006-04-01 12:00:00               1017.59  Partly cloudy throughout the day.   \n",
              "2006-04-01 13:00:00               1017.48  Partly cloudy throughout the day.   \n",
              "2006-04-01 14:00:00               1017.17  Partly cloudy throughout the day.   \n",
              "2006-04-01 15:00:00               1016.47  Partly cloudy throughout the day.   \n",
              "2006-04-01 16:00:00               1016.15  Partly cloudy throughout the day.   \n",
              "2006-04-01 17:00:00               1016.17  Partly cloudy throughout the day.   \n",
              "2006-04-01 18:00:00               1015.82  Partly cloudy throughout the day.   \n",
              "2006-04-01 19:00:00               1015.83  Partly cloudy throughout the day.   \n",
              "2006-04-01 20:00:00               1015.85  Partly cloudy throughout the day.   \n",
              "2006-04-01 21:00:00               1015.77  Partly cloudy throughout the day.   \n",
              "2006-04-01 22:00:00               1015.40  Partly cloudy throughout the day.   \n",
              "2006-04-01 23:00:00               1015.51  Partly cloudy throughout the day.   \n",
              "2006-04-10 00:00:00               1014.40  Mostly cloudy throughout the day.   \n",
              "2006-04-10 01:00:00               1014.20  Mostly cloudy throughout the day.   \n",
              "\n",
              "                                         Date  \n",
              "Date                                           \n",
              "2006-04-01 00:00:00  2006-04-01 00:00:00.000   \n",
              "2006-04-01 01:00:00  2006-04-01 01:00:00.000   \n",
              "2006-04-01 02:00:00  2006-04-01 02:00:00.000   \n",
              "2006-04-01 03:00:00  2006-04-01 03:00:00.000   \n",
              "2006-04-01 04:00:00  2006-04-01 04:00:00.000   \n",
              "2006-04-01 05:00:00  2006-04-01 05:00:00.000   \n",
              "2006-04-01 06:00:00  2006-04-01 06:00:00.000   \n",
              "2006-04-01 07:00:00  2006-04-01 07:00:00.000   \n",
              "2006-04-01 08:00:00  2006-04-01 08:00:00.000   \n",
              "2006-04-01 09:00:00  2006-04-01 09:00:00.000   \n",
              "2006-04-01 10:00:00  2006-04-01 10:00:00.000   \n",
              "2006-04-01 11:00:00  2006-04-01 11:00:00.000   \n",
              "2006-04-01 12:00:00  2006-04-01 12:00:00.000   \n",
              "2006-04-01 13:00:00  2006-04-01 13:00:00.000   \n",
              "2006-04-01 14:00:00  2006-04-01 14:00:00.000   \n",
              "2006-04-01 15:00:00  2006-04-01 15:00:00.000   \n",
              "2006-04-01 16:00:00  2006-04-01 16:00:00.000   \n",
              "2006-04-01 17:00:00  2006-04-01 17:00:00.000   \n",
              "2006-04-01 18:00:00  2006-04-01 18:00:00.000   \n",
              "2006-04-01 19:00:00  2006-04-01 19:00:00.000   \n",
              "2006-04-01 20:00:00  2006-04-01 20:00:00.000   \n",
              "2006-04-01 21:00:00  2006-04-01 21:00:00.000   \n",
              "2006-04-01 22:00:00  2006-04-01 22:00:00.000   \n",
              "2006-04-01 23:00:00  2006-04-01 23:00:00.000   \n",
              "2006-04-10 00:00:00  2006-04-10 00:00:00.000   \n",
              "2006-04-10 01:00:00  2006-04-10 01:00:00.000   "
            ],
            "text/html": [
              "\n",
              "  <div id=\"df-904e1bf3-022e-4c33-bbea-44ce27f07b6b\">\n",
              "    <div class=\"colab-df-container\">\n",
              "      <div>\n",
              "<style scoped>\n",
              "    .dataframe tbody tr th:only-of-type {\n",
              "        vertical-align: middle;\n",
              "    }\n",
              "\n",
              "    .dataframe tbody tr th {\n",
              "        vertical-align: top;\n",
              "    }\n",
              "\n",
              "    .dataframe thead th {\n",
              "        text-align: right;\n",
              "    }\n",
              "</style>\n",
              "<table border=\"1\" class=\"dataframe\">\n",
              "  <thead>\n",
              "    <tr style=\"text-align: right;\">\n",
              "      <th></th>\n",
              "      <th>Summary</th>\n",
              "      <th>Precip Type</th>\n",
              "      <th>Temperature (C)</th>\n",
              "      <th>Apparent Temperature (C)</th>\n",
              "      <th>Humidity</th>\n",
              "      <th>Wind Speed (km/h)</th>\n",
              "      <th>Wind Bearing (degrees)</th>\n",
              "      <th>Visibility (km)</th>\n",
              "      <th>Loud Cover</th>\n",
              "      <th>Pressure (millibars)</th>\n",
              "      <th>Daily Summary</th>\n",
              "      <th>Date</th>\n",
              "    </tr>\n",
              "    <tr>\n",
              "      <th>Date</th>\n",
              "      <th></th>\n",
              "      <th></th>\n",
              "      <th></th>\n",
              "      <th></th>\n",
              "      <th></th>\n",
              "      <th></th>\n",
              "      <th></th>\n",
              "      <th></th>\n",
              "      <th></th>\n",
              "      <th></th>\n",
              "      <th></th>\n",
              "      <th></th>\n",
              "    </tr>\n",
              "  </thead>\n",
              "  <tbody>\n",
              "    <tr>\n",
              "      <th>2006-04-01 00:00:00</th>\n",
              "      <td>Partly Cloudy</td>\n",
              "      <td>rain</td>\n",
              "      <td>9.472222</td>\n",
              "      <td>7.388889</td>\n",
              "      <td>0.89</td>\n",
              "      <td>14.1197</td>\n",
              "      <td>251.0</td>\n",
              "      <td>15.8263</td>\n",
              "      <td>0.0</td>\n",
              "      <td>1015.13</td>\n",
              "      <td>Partly cloudy throughout the day.</td>\n",
              "      <td>2006-04-01 00:00:00.000</td>\n",
              "    </tr>\n",
              "    <tr>\n",
              "      <th>2006-04-01 01:00:00</th>\n",
              "      <td>Partly Cloudy</td>\n",
              "      <td>rain</td>\n",
              "      <td>9.355556</td>\n",
              "      <td>7.227778</td>\n",
              "      <td>0.86</td>\n",
              "      <td>14.2646</td>\n",
              "      <td>259.0</td>\n",
              "      <td>15.8263</td>\n",
              "      <td>0.0</td>\n",
              "      <td>1015.63</td>\n",
              "      <td>Partly cloudy throughout the day.</td>\n",
              "      <td>2006-04-01 01:00:00.000</td>\n",
              "    </tr>\n",
              "    <tr>\n",
              "      <th>2006-04-01 02:00:00</th>\n",
              "      <td>Mostly Cloudy</td>\n",
              "      <td>rain</td>\n",
              "      <td>9.377778</td>\n",
              "      <td>9.377778</td>\n",
              "      <td>0.89</td>\n",
              "      <td>3.9284</td>\n",
              "      <td>204.0</td>\n",
              "      <td>14.9569</td>\n",
              "      <td>0.0</td>\n",
              "      <td>1015.94</td>\n",
              "      <td>Partly cloudy throughout the day.</td>\n",
              "      <td>2006-04-01 02:00:00.000</td>\n",
              "    </tr>\n",
              "    <tr>\n",
              "      <th>2006-04-01 03:00:00</th>\n",
              "      <td>Partly Cloudy</td>\n",
              "      <td>rain</td>\n",
              "      <td>8.288889</td>\n",
              "      <td>5.944444</td>\n",
              "      <td>0.83</td>\n",
              "      <td>14.1036</td>\n",
              "      <td>269.0</td>\n",
              "      <td>15.8263</td>\n",
              "      <td>0.0</td>\n",
              "      <td>1016.41</td>\n",
              "      <td>Partly cloudy throughout the day.</td>\n",
              "      <td>2006-04-01 03:00:00.000</td>\n",
              "    </tr>\n",
              "    <tr>\n",
              "      <th>2006-04-01 04:00:00</th>\n",
              "      <td>Mostly Cloudy</td>\n",
              "      <td>rain</td>\n",
              "      <td>8.755556</td>\n",
              "      <td>6.977778</td>\n",
              "      <td>0.83</td>\n",
              "      <td>11.0446</td>\n",
              "      <td>259.0</td>\n",
              "      <td>15.8263</td>\n",
              "      <td>0.0</td>\n",
              "      <td>1016.51</td>\n",
              "      <td>Partly cloudy throughout the day.</td>\n",
              "      <td>2006-04-01 04:00:00.000</td>\n",
              "    </tr>\n",
              "    <tr>\n",
              "      <th>2006-04-01 05:00:00</th>\n",
              "      <td>Partly Cloudy</td>\n",
              "      <td>rain</td>\n",
              "      <td>9.222222</td>\n",
              "      <td>7.111111</td>\n",
              "      <td>0.85</td>\n",
              "      <td>13.9587</td>\n",
              "      <td>258.0</td>\n",
              "      <td>14.9569</td>\n",
              "      <td>0.0</td>\n",
              "      <td>1016.66</td>\n",
              "      <td>Partly cloudy throughout the day.</td>\n",
              "      <td>2006-04-01 05:00:00.000</td>\n",
              "    </tr>\n",
              "    <tr>\n",
              "      <th>2006-04-01 06:00:00</th>\n",
              "      <td>Partly Cloudy</td>\n",
              "      <td>rain</td>\n",
              "      <td>7.733333</td>\n",
              "      <td>5.522222</td>\n",
              "      <td>0.95</td>\n",
              "      <td>12.3648</td>\n",
              "      <td>259.0</td>\n",
              "      <td>9.9820</td>\n",
              "      <td>0.0</td>\n",
              "      <td>1016.72</td>\n",
              "      <td>Partly cloudy throughout the day.</td>\n",
              "      <td>2006-04-01 06:00:00.000</td>\n",
              "    </tr>\n",
              "    <tr>\n",
              "      <th>2006-04-01 07:00:00</th>\n",
              "      <td>Partly Cloudy</td>\n",
              "      <td>rain</td>\n",
              "      <td>8.772222</td>\n",
              "      <td>6.527778</td>\n",
              "      <td>0.89</td>\n",
              "      <td>14.1519</td>\n",
              "      <td>260.0</td>\n",
              "      <td>9.9820</td>\n",
              "      <td>0.0</td>\n",
              "      <td>1016.84</td>\n",
              "      <td>Partly cloudy throughout the day.</td>\n",
              "      <td>2006-04-01 07:00:00.000</td>\n",
              "    </tr>\n",
              "    <tr>\n",
              "      <th>2006-04-01 08:00:00</th>\n",
              "      <td>Partly Cloudy</td>\n",
              "      <td>rain</td>\n",
              "      <td>10.822222</td>\n",
              "      <td>10.822222</td>\n",
              "      <td>0.82</td>\n",
              "      <td>11.3183</td>\n",
              "      <td>259.0</td>\n",
              "      <td>9.9820</td>\n",
              "      <td>0.0</td>\n",
              "      <td>1017.37</td>\n",
              "      <td>Partly cloudy throughout the day.</td>\n",
              "      <td>2006-04-01 08:00:00.000</td>\n",
              "    </tr>\n",
              "    <tr>\n",
              "      <th>2006-04-01 09:00:00</th>\n",
              "      <td>Partly Cloudy</td>\n",
              "      <td>rain</td>\n",
              "      <td>13.772222</td>\n",
              "      <td>13.772222</td>\n",
              "      <td>0.72</td>\n",
              "      <td>12.5258</td>\n",
              "      <td>279.0</td>\n",
              "      <td>9.9820</td>\n",
              "      <td>0.0</td>\n",
              "      <td>1017.22</td>\n",
              "      <td>Partly cloudy throughout the day.</td>\n",
              "      <td>2006-04-01 09:00:00.000</td>\n",
              "    </tr>\n",
              "    <tr>\n",
              "      <th>2006-04-01 10:00:00</th>\n",
              "      <td>Partly Cloudy</td>\n",
              "      <td>rain</td>\n",
              "      <td>16.016667</td>\n",
              "      <td>16.016667</td>\n",
              "      <td>0.67</td>\n",
              "      <td>17.5651</td>\n",
              "      <td>290.0</td>\n",
              "      <td>11.2056</td>\n",
              "      <td>0.0</td>\n",
              "      <td>1017.42</td>\n",
              "      <td>Partly cloudy throughout the day.</td>\n",
              "      <td>2006-04-01 10:00:00.000</td>\n",
              "    </tr>\n",
              "    <tr>\n",
              "      <th>2006-04-01 11:00:00</th>\n",
              "      <td>Partly Cloudy</td>\n",
              "      <td>rain</td>\n",
              "      <td>17.144444</td>\n",
              "      <td>17.144444</td>\n",
              "      <td>0.54</td>\n",
              "      <td>19.7869</td>\n",
              "      <td>316.0</td>\n",
              "      <td>11.4471</td>\n",
              "      <td>0.0</td>\n",
              "      <td>1017.74</td>\n",
              "      <td>Partly cloudy throughout the day.</td>\n",
              "      <td>2006-04-01 11:00:00.000</td>\n",
              "    </tr>\n",
              "    <tr>\n",
              "      <th>2006-04-01 12:00:00</th>\n",
              "      <td>Partly Cloudy</td>\n",
              "      <td>rain</td>\n",
              "      <td>17.800000</td>\n",
              "      <td>17.800000</td>\n",
              "      <td>0.55</td>\n",
              "      <td>21.9443</td>\n",
              "      <td>281.0</td>\n",
              "      <td>11.2700</td>\n",
              "      <td>0.0</td>\n",
              "      <td>1017.59</td>\n",
              "      <td>Partly cloudy throughout the day.</td>\n",
              "      <td>2006-04-01 12:00:00.000</td>\n",
              "    </tr>\n",
              "    <tr>\n",
              "      <th>2006-04-01 13:00:00</th>\n",
              "      <td>Partly Cloudy</td>\n",
              "      <td>rain</td>\n",
              "      <td>17.333333</td>\n",
              "      <td>17.333333</td>\n",
              "      <td>0.51</td>\n",
              "      <td>20.6885</td>\n",
              "      <td>289.0</td>\n",
              "      <td>11.2700</td>\n",
              "      <td>0.0</td>\n",
              "      <td>1017.48</td>\n",
              "      <td>Partly cloudy throughout the day.</td>\n",
              "      <td>2006-04-01 13:00:00.000</td>\n",
              "    </tr>\n",
              "    <tr>\n",
              "      <th>2006-04-01 14:00:00</th>\n",
              "      <td>Partly Cloudy</td>\n",
              "      <td>rain</td>\n",
              "      <td>18.877778</td>\n",
              "      <td>18.877778</td>\n",
              "      <td>0.47</td>\n",
              "      <td>15.3755</td>\n",
              "      <td>262.0</td>\n",
              "      <td>11.4471</td>\n",
              "      <td>0.0</td>\n",
              "      <td>1017.17</td>\n",
              "      <td>Partly cloudy throughout the day.</td>\n",
              "      <td>2006-04-01 14:00:00.000</td>\n",
              "    </tr>\n",
              "    <tr>\n",
              "      <th>2006-04-01 15:00:00</th>\n",
              "      <td>Partly Cloudy</td>\n",
              "      <td>rain</td>\n",
              "      <td>18.911111</td>\n",
              "      <td>18.911111</td>\n",
              "      <td>0.46</td>\n",
              "      <td>10.4006</td>\n",
              "      <td>288.0</td>\n",
              "      <td>11.2700</td>\n",
              "      <td>0.0</td>\n",
              "      <td>1016.47</td>\n",
              "      <td>Partly cloudy throughout the day.</td>\n",
              "      <td>2006-04-01 15:00:00.000</td>\n",
              "    </tr>\n",
              "    <tr>\n",
              "      <th>2006-04-01 16:00:00</th>\n",
              "      <td>Partly Cloudy</td>\n",
              "      <td>rain</td>\n",
              "      <td>15.388889</td>\n",
              "      <td>15.388889</td>\n",
              "      <td>0.60</td>\n",
              "      <td>14.4095</td>\n",
              "      <td>251.0</td>\n",
              "      <td>11.2700</td>\n",
              "      <td>0.0</td>\n",
              "      <td>1016.15</td>\n",
              "      <td>Partly cloudy throughout the day.</td>\n",
              "      <td>2006-04-01 16:00:00.000</td>\n",
              "    </tr>\n",
              "    <tr>\n",
              "      <th>2006-04-01 17:00:00</th>\n",
              "      <td>Mostly Cloudy</td>\n",
              "      <td>rain</td>\n",
              "      <td>15.550000</td>\n",
              "      <td>15.550000</td>\n",
              "      <td>0.63</td>\n",
              "      <td>11.1573</td>\n",
              "      <td>230.0</td>\n",
              "      <td>11.4471</td>\n",
              "      <td>0.0</td>\n",
              "      <td>1016.17</td>\n",
              "      <td>Partly cloudy throughout the day.</td>\n",
              "      <td>2006-04-01 17:00:00.000</td>\n",
              "    </tr>\n",
              "    <tr>\n",
              "      <th>2006-04-01 18:00:00</th>\n",
              "      <td>Mostly Cloudy</td>\n",
              "      <td>rain</td>\n",
              "      <td>14.255556</td>\n",
              "      <td>14.255556</td>\n",
              "      <td>0.69</td>\n",
              "      <td>8.5169</td>\n",
              "      <td>163.0</td>\n",
              "      <td>11.2056</td>\n",
              "      <td>0.0</td>\n",
              "      <td>1015.82</td>\n",
              "      <td>Partly cloudy throughout the day.</td>\n",
              "      <td>2006-04-01 18:00:00.000</td>\n",
              "    </tr>\n",
              "    <tr>\n",
              "      <th>2006-04-01 19:00:00</th>\n",
              "      <td>Mostly Cloudy</td>\n",
              "      <td>rain</td>\n",
              "      <td>13.144444</td>\n",
              "      <td>13.144444</td>\n",
              "      <td>0.70</td>\n",
              "      <td>7.6314</td>\n",
              "      <td>139.0</td>\n",
              "      <td>11.2056</td>\n",
              "      <td>0.0</td>\n",
              "      <td>1015.83</td>\n",
              "      <td>Partly cloudy throughout the day.</td>\n",
              "      <td>2006-04-01 19:00:00.000</td>\n",
              "    </tr>\n",
              "    <tr>\n",
              "      <th>2006-04-01 20:00:00</th>\n",
              "      <td>Mostly Cloudy</td>\n",
              "      <td>rain</td>\n",
              "      <td>11.550000</td>\n",
              "      <td>11.550000</td>\n",
              "      <td>0.77</td>\n",
              "      <td>7.3899</td>\n",
              "      <td>147.0</td>\n",
              "      <td>11.0285</td>\n",
              "      <td>0.0</td>\n",
              "      <td>1015.85</td>\n",
              "      <td>Partly cloudy throughout the day.</td>\n",
              "      <td>2006-04-01 20:00:00.000</td>\n",
              "    </tr>\n",
              "    <tr>\n",
              "      <th>2006-04-01 21:00:00</th>\n",
              "      <td>Mostly Cloudy</td>\n",
              "      <td>rain</td>\n",
              "      <td>11.183333</td>\n",
              "      <td>11.183333</td>\n",
              "      <td>0.76</td>\n",
              "      <td>4.9266</td>\n",
              "      <td>160.0</td>\n",
              "      <td>9.9820</td>\n",
              "      <td>0.0</td>\n",
              "      <td>1015.77</td>\n",
              "      <td>Partly cloudy throughout the day.</td>\n",
              "      <td>2006-04-01 21:00:00.000</td>\n",
              "    </tr>\n",
              "    <tr>\n",
              "      <th>2006-04-01 22:00:00</th>\n",
              "      <td>Partly Cloudy</td>\n",
              "      <td>rain</td>\n",
              "      <td>10.116667</td>\n",
              "      <td>10.116667</td>\n",
              "      <td>0.79</td>\n",
              "      <td>6.6493</td>\n",
              "      <td>163.0</td>\n",
              "      <td>15.8263</td>\n",
              "      <td>0.0</td>\n",
              "      <td>1015.40</td>\n",
              "      <td>Partly cloudy throughout the day.</td>\n",
              "      <td>2006-04-01 22:00:00.000</td>\n",
              "    </tr>\n",
              "    <tr>\n",
              "      <th>2006-04-01 23:00:00</th>\n",
              "      <td>Mostly Cloudy</td>\n",
              "      <td>rain</td>\n",
              "      <td>10.200000</td>\n",
              "      <td>10.200000</td>\n",
              "      <td>0.77</td>\n",
              "      <td>3.9284</td>\n",
              "      <td>152.0</td>\n",
              "      <td>14.9569</td>\n",
              "      <td>0.0</td>\n",
              "      <td>1015.51</td>\n",
              "      <td>Partly cloudy throughout the day.</td>\n",
              "      <td>2006-04-01 23:00:00.000</td>\n",
              "    </tr>\n",
              "    <tr>\n",
              "      <th>2006-04-10 00:00:00</th>\n",
              "      <td>Partly Cloudy</td>\n",
              "      <td>rain</td>\n",
              "      <td>10.422222</td>\n",
              "      <td>10.422222</td>\n",
              "      <td>0.62</td>\n",
              "      <td>16.9855</td>\n",
              "      <td>150.0</td>\n",
              "      <td>15.8263</td>\n",
              "      <td>0.0</td>\n",
              "      <td>1014.40</td>\n",
              "      <td>Mostly cloudy throughout the day.</td>\n",
              "      <td>2006-04-10 00:00:00.000</td>\n",
              "    </tr>\n",
              "    <tr>\n",
              "      <th>2006-04-10 01:00:00</th>\n",
              "      <td>Partly Cloudy</td>\n",
              "      <td>rain</td>\n",
              "      <td>9.911111</td>\n",
              "      <td>7.566667</td>\n",
              "      <td>0.66</td>\n",
              "      <td>17.2109</td>\n",
              "      <td>149.0</td>\n",
              "      <td>15.8263</td>\n",
              "      <td>0.0</td>\n",
              "      <td>1014.20</td>\n",
              "      <td>Mostly cloudy throughout the day.</td>\n",
              "      <td>2006-04-10 01:00:00.000</td>\n",
              "    </tr>\n",
              "  </tbody>\n",
              "</table>\n",
              "</div>\n",
              "      <button class=\"colab-df-convert\" onclick=\"convertToInteractive('df-904e1bf3-022e-4c33-bbea-44ce27f07b6b')\"\n",
              "              title=\"Convert this dataframe to an interactive table.\"\n",
              "              style=\"display:none;\">\n",
              "        \n",
              "  <svg xmlns=\"http://www.w3.org/2000/svg\" height=\"24px\"viewBox=\"0 0 24 24\"\n",
              "       width=\"24px\">\n",
              "    <path d=\"M0 0h24v24H0V0z\" fill=\"none\"/>\n",
              "    <path d=\"M18.56 5.44l.94 2.06.94-2.06 2.06-.94-2.06-.94-.94-2.06-.94 2.06-2.06.94zm-11 1L8.5 8.5l.94-2.06 2.06-.94-2.06-.94L8.5 2.5l-.94 2.06-2.06.94zm10 10l.94 2.06.94-2.06 2.06-.94-2.06-.94-.94-2.06-.94 2.06-2.06.94z\"/><path d=\"M17.41 7.96l-1.37-1.37c-.4-.4-.92-.59-1.43-.59-.52 0-1.04.2-1.43.59L10.3 9.45l-7.72 7.72c-.78.78-.78 2.05 0 2.83L4 21.41c.39.39.9.59 1.41.59.51 0 1.02-.2 1.41-.59l7.78-7.78 2.81-2.81c.8-.78.8-2.07 0-2.86zM5.41 20L4 18.59l7.72-7.72 1.47 1.35L5.41 20z\"/>\n",
              "  </svg>\n",
              "      </button>\n",
              "      \n",
              "  <style>\n",
              "    .colab-df-container {\n",
              "      display:flex;\n",
              "      flex-wrap:wrap;\n",
              "      gap: 12px;\n",
              "    }\n",
              "\n",
              "    .colab-df-convert {\n",
              "      background-color: #E8F0FE;\n",
              "      border: none;\n",
              "      border-radius: 50%;\n",
              "      cursor: pointer;\n",
              "      display: none;\n",
              "      fill: #1967D2;\n",
              "      height: 32px;\n",
              "      padding: 0 0 0 0;\n",
              "      width: 32px;\n",
              "    }\n",
              "\n",
              "    .colab-df-convert:hover {\n",
              "      background-color: #E2EBFA;\n",
              "      box-shadow: 0px 1px 2px rgba(60, 64, 67, 0.3), 0px 1px 3px 1px rgba(60, 64, 67, 0.15);\n",
              "      fill: #174EA6;\n",
              "    }\n",
              "\n",
              "    [theme=dark] .colab-df-convert {\n",
              "      background-color: #3B4455;\n",
              "      fill: #D2E3FC;\n",
              "    }\n",
              "\n",
              "    [theme=dark] .colab-df-convert:hover {\n",
              "      background-color: #434B5C;\n",
              "      box-shadow: 0px 1px 3px 1px rgba(0, 0, 0, 0.15);\n",
              "      filter: drop-shadow(0px 1px 2px rgba(0, 0, 0, 0.3));\n",
              "      fill: #FFFFFF;\n",
              "    }\n",
              "  </style>\n",
              "\n",
              "      <script>\n",
              "        const buttonEl =\n",
              "          document.querySelector('#df-904e1bf3-022e-4c33-bbea-44ce27f07b6b button.colab-df-convert');\n",
              "        buttonEl.style.display =\n",
              "          google.colab.kernel.accessAllowed ? 'block' : 'none';\n",
              "\n",
              "        async function convertToInteractive(key) {\n",
              "          const element = document.querySelector('#df-904e1bf3-022e-4c33-bbea-44ce27f07b6b');\n",
              "          const dataTable =\n",
              "            await google.colab.kernel.invokeFunction('convertToInteractive',\n",
              "                                                     [key], {});\n",
              "          if (!dataTable) return;\n",
              "\n",
              "          const docLinkHtml = 'Like what you see? Visit the ' +\n",
              "            '<a target=\"_blank\" href=https://colab.research.google.com/notebooks/data_table.ipynb>data table notebook</a>'\n",
              "            + ' to learn more about interactive tables.';\n",
              "          element.innerHTML = '';\n",
              "          dataTable['output_type'] = 'display_data';\n",
              "          await google.colab.output.renderOutput(dataTable, element);\n",
              "          const docLink = document.createElement('div');\n",
              "          docLink.innerHTML = docLinkHtml;\n",
              "          element.appendChild(docLink);\n",
              "        }\n",
              "      </script>\n",
              "    </div>\n",
              "  </div>\n",
              "  "
            ]
          },
          "metadata": {},
          "execution_count": 35
        }
      ]
    },
    {
      "cell_type": "code",
      "source": [
        "temp = df['Temperature (C)']\n",
        "plt.figure(figsize=(22,6))\n",
        "plt.xlabel(\"Date\")\n",
        "plt.ylabel(\"Temperature(C)\")\n",
        "temp.plot()\n"
      ],
      "metadata": {
        "colab": {
          "base_uri": "https://localhost:8080/",
          "height": 312
        },
        "id": "SC69tflRpuYT",
        "outputId": "4c417779-4f73-4676-b51b-2bf3b6a761b6"
      },
      "execution_count": null,
      "outputs": [
        {
          "output_type": "execute_result",
          "data": {
            "text/plain": [
              "<matplotlib.axes._subplots.AxesSubplot at 0x7f92f50fc4f0>"
            ]
          },
          "metadata": {},
          "execution_count": 36
        },
        {
          "output_type": "display_data",
          "data": {
            "text/plain": [
              "<Figure size 1584x432 with 1 Axes>"
            ],
            "image/png": "[encoded data removed]"
          },
          "metadata": {
            "needs_background": "light"
          }
        }
      ]
    },
    {
      "cell_type": "code",
      "source": [
        "# [[[1], [2], [3], [4], [5]]] [6]\n",
        "# [[[2], [3], [4], [5], [6]]] [7]\n",
        "# [[[3], [4], [5], [6], [7]]] [8]\n",
        "\n",
        "def df_to_X_y(df, window_size=5):\n",
        "  df_as_np = df.to_numpy()\n",
        "  X = []\n",
        "  y = []\n",
        "  for i in range(len(df_as_np)-window_size):\n",
        "    row = [[a] for a in df_as_np[i:i+window_size]]\n",
        "    X.append(row)\n",
        "    label = df_as_np[i+window_size]\n",
        "    y.append(label)\n",
        "  return np.array(X), np.array(y)"
      ],
      "metadata": {
        "id": "zhdAlXorpzq4"
      },
      "execution_count": null,
      "outputs": []
    },
    {
      "cell_type": "code",
      "source": [
        "WINDOW_SIZE = 5\n",
        "X1, y1 = df_to_X_y(temp, WINDOW_SIZE)\n",
        "X1.shape, y1.shape"
      ],
      "metadata": {
        "colab": {
          "base_uri": "https://localhost:8080/"
        },
        "id": "oQXylxoXp6nF",
        "outputId": "8874210b-fcac-47b7-b4b3-df789a183a40"
      },
      "execution_count": null,
      "outputs": [
        {
          "output_type": "execute_result",
          "data": {
            "text/plain": [
              "((96448, 5, 1), (96448,))"
            ]
          },
          "metadata": {},
          "execution_count": 40
        }
      ]
    },
    {
      "cell_type": "code",
      "source": [
        "X_train1, y_train1 = X1[:75000], y1[:75000]\n",
        "X_val1, y_val1 = X1[75000:85000], y1[75000:85000]\n",
        "X_test1, y_test1 = X1[85000:], y1[85000:]\n",
        "X_train1.shape, y_train1.shape, X_val1.shape, y_val1.shape, X_test1.shape, y_test1.shape"
      ],
      "metadata": {
        "colab": {
          "base_uri": "https://localhost:8080/"
        },
        "id": "orpKS67YqBkN",
        "outputId": "4ce4cdaa-6aee-493d-bce3-faeaf10845b4"
      },
      "execution_count": null,
      "outputs": [
        {
          "output_type": "execute_result",
          "data": {
            "text/plain": [
              "((75000, 5, 1), (75000,), (10000, 5, 1), (10000,), (11448, 5, 1), (11448,))"
            ]
          },
          "metadata": {},
          "execution_count": 41
        }
      ]
    },
    {
      "cell_type": "code",
      "source": [
        "from keras.models import Sequential\n",
        "from keras.layers import *\n",
        "from keras.callbacks import ModelCheckpoint\n",
        "from keras.losses import MeanSquaredError\n",
        "from keras.metrics import RootMeanSquaredError\n",
        "from keras.optimizers import Adam"
      ],
      "metadata": {
        "id": "nOd6u3rTqE4p"
      },
      "execution_count": null,
      "outputs": []
    },
    {
      "cell_type": "code",
      "source": [],
      "metadata": {
        "id": "-bFuySkV087u"
      },
      "execution_count": null,
      "outputs": []
    },
    {
      "cell_type": "code",
      "source": [
        "model1 = Sequential()\n",
        "model1.add(InputLayer((5, 1)))\n",
        "model1.add(LSTM(64))\n",
        "model1.add(Dense(8, 'relu'))\n",
        "model1.add(Dense(1, 'linear'))\n",
        "\n",
        "model1.summary()"
      ],
      "metadata": {
        "colab": {
          "base_uri": "https://localhost:8080/"
        },
        "id": "UoaM_QgQqJTx",
        "outputId": "3bdb07d2-8ed3-46fa-f540-e98a5e34caf6"
      },
      "execution_count": null,
      "outputs": [
        {
          "output_type": "stream",
          "name": "stdout",
          "text": [
            "Model: \"sequential_2\"\n",
            "_________________________________________________________________\n",
            " Layer (type)                Output Shape              Param #   \n",
            "=================================================================\n",
            " lstm_2 (LSTM)               (None, 64)                16896     \n",
            "                                                                 \n",
            " dense_4 (Dense)             (None, 8)                 520       \n",
            "                                                                 \n",
            " dense_5 (Dense)             (None, 1)                 9         \n",
            "                                                                 \n",
            "=================================================================\n",
            "Total params: 17,425\n",
            "Trainable params: 17,425\n",
            "Non-trainable params: 0\n",
            "_________________________________________________________________\n"
          ]
        }
      ]
    },
    {
      "cell_type": "code",
      "source": [
        "cp1 = ModelCheckpoint('/tmp/model', save_best_only=True)\n",
        "model1.compile(loss=MeanSquaredError(), optimizer=Adam(learning_rate=0.0001), metrics=[RootMeanSquaredError()])"
      ],
      "metadata": {
        "id": "sv1DdtCnqNUD"
      },
      "execution_count": null,
      "outputs": []
    },
    {
      "cell_type": "code",
      "source": [
        "model1.fit(X_train1, y_train1, validation_data=(X_val1, y_val1), epochs=20, callbacks=[cp1])"
      ],
      "metadata": {
        "colab": {
          "base_uri": "https://localhost:8080/"
        },
        "id": "L2vGBh9srkcp",
        "outputId": "87af8d36-be0a-42da-a6f0-a501dc67980d"
      },
      "execution_count": null,
      "outputs": [
        {
          "output_type": "stream",
          "name": "stdout",
          "text": [
            "Epoch 1/20\n",
            "2340/2344 [============================>.] - ETA: 0s - loss: 62.7779 - root_mean_squared_error: 7.9232"
          ]
        },
        {
          "output_type": "stream",
          "name": "stderr",
          "text": [
            "WARNING:absl:Found untraced functions such as lstm_cell_2_layer_call_fn, lstm_cell_2_layer_call_and_return_conditional_losses while saving (showing 2 of 2). These functions will not be directly callable after loading.\n"
          ]
        },
        {
          "output_type": "stream",
          "name": "stdout",
          "text": [
            "\b\b\b\b\b\b\b\b\b\b\b\b\b\b\b\b\b\b\b\b\b\b\b\b\b\b\b\b\b\b\b\b\b\b\b\b\b\b\b\b\b\b\b\b\b\b\b\b\b\b\b\b\b\b\b\b\b\b\b\b\b\b\b\b\b\b\b\b\b\b\b\b\b\b\b\b\b\b\b\b\b\b\b\b\b\b\b\b\b\b\b\b\b\b\b\b\b\b\b\b\b\b\r2344/2344 [==============================] - 15s 6ms/step - loss: 62.6881 - root_mean_squared_error: 7.9176 - val_loss: 5.5791 - val_root_mean_squared_error: 2.3620\n",
            "Epoch 2/20\n",
            "2334/2344 [============================>.] - ETA: 0s - loss: 3.5714 - root_mean_squared_error: 1.8898"
          ]
        },
        {
          "output_type": "stream",
          "name": "stderr",
          "text": [
            "WARNING:absl:Found untraced functions such as lstm_cell_2_layer_call_fn, lstm_cell_2_layer_call_and_return_conditional_losses while saving (showing 2 of 2). These functions will not be directly callable after loading.\n"
          ]
        },
        {
          "output_type": "stream",
          "name": "stdout",
          "text": [
            "\b\b\b\b\b\b\b\b\b\b\b\b\b\b\b\b\b\b\b\b\b\b\b\b\b\b\b\b\b\b\b\b\b\b\b\b\b\b\b\b\b\b\b\b\b\b\b\b\b\b\b\b\b\b\b\b\b\b\b\b\b\b\b\b\b\b\b\b\b\b\b\b\b\b\b\b\b\b\b\b\b\b\b\b\b\b\b\b\b\b\b\b\b\b\b\b\b\b\b\b\b\r2344/2344 [==============================] - 13s 6ms/step - loss: 3.5656 - root_mean_squared_error: 1.8883 - val_loss: 1.8248 - val_root_mean_squared_error: 1.3508\n",
            "Epoch 3/20\n",
            "2339/2344 [============================>.] - ETA: 0s - loss: 2.3379 - root_mean_squared_error: 1.5290"
          ]
        },
        {
          "output_type": "stream",
          "name": "stderr",
          "text": [
            "WARNING:absl:Found untraced functions such as lstm_cell_2_layer_call_fn, lstm_cell_2_layer_call_and_return_conditional_losses while saving (showing 2 of 2). These functions will not be directly callable after loading.\n"
          ]
        },
        {
          "output_type": "stream",
          "name": "stdout",
          "text": [
            "\b\b\b\b\b\b\b\b\b\b\b\b\b\b\b\b\b\b\b\b\b\b\b\b\b\b\b\b\b\b\b\b\b\b\b\b\b\b\b\b\b\b\b\b\b\b\b\b\b\b\b\b\b\b\b\b\b\b\b\b\b\b\b\b\b\b\b\b\b\b\b\b\b\b\b\b\b\b\b\b\b\b\b\b\b\b\b\b\b\b\b\b\b\b\b\b\b\b\b\b\b\r2344/2344 [==============================] - 13s 6ms/step - loss: 2.3374 - root_mean_squared_error: 1.5289 - val_loss: 1.5142 - val_root_mean_squared_error: 1.2305\n",
            "Epoch 4/20\n",
            "2332/2344 [============================>.] - ETA: 0s - loss: 2.1680 - root_mean_squared_error: 1.4724"
          ]
        },
        {
          "output_type": "stream",
          "name": "stderr",
          "text": [
            "WARNING:absl:Found untraced functions such as lstm_cell_2_layer_call_fn, lstm_cell_2_layer_call_and_return_conditional_losses while saving (showing 2 of 2). These functions will not be directly callable after loading.\n"
          ]
        },
        {
          "output_type": "stream",
          "name": "stdout",
          "text": [
            "\b\b\b\b\b\b\b\b\b\b\b\b\b\b\b\b\b\b\b\b\b\b\b\b\b\b\b\b\b\b\b\b\b\b\b\b\b\b\b\b\b\b\b\b\b\b\b\b\b\b\b\b\b\b\b\b\b\b\b\b\b\b\b\b\b\b\b\b\b\b\b\b\b\b\b\b\b\b\b\b\b\b\b\b\b\b\b\b\b\b\b\b\b\b\b\b\b\b\b\b\b\r2344/2344 [==============================] - 13s 6ms/step - loss: 2.1679 - root_mean_squared_error: 1.4724 - val_loss: 1.4657 - val_root_mean_squared_error: 1.2107\n",
            "Epoch 5/20\n",
            "2340/2344 [============================>.] - ETA: 0s - loss: 2.1176 - root_mean_squared_error: 1.4552"
          ]
        },
        {
          "output_type": "stream",
          "name": "stderr",
          "text": [
            "WARNING:absl:Found untraced functions such as lstm_cell_2_layer_call_fn, lstm_cell_2_layer_call_and_return_conditional_losses while saving (showing 2 of 2). These functions will not be directly callable after loading.\n"
          ]
        },
        {
          "output_type": "stream",
          "name": "stdout",
          "text": [
            "\b\b\b\b\b\b\b\b\b\b\b\b\b\b\b\b\b\b\b\b\b\b\b\b\b\b\b\b\b\b\b\b\b\b\b\b\b\b\b\b\b\b\b\b\b\b\b\b\b\b\b\b\b\b\b\b\b\b\b\b\b\b\b\b\b\b\b\b\b\b\b\b\b\b\b\b\b\b\b\b\b\b\b\b\b\b\b\b\b\b\b\b\b\b\b\b\b\b\b\b\b\r2344/2344 [==============================] - 13s 6ms/step - loss: 2.1162 - root_mean_squared_error: 1.4547 - val_loss: 1.4400 - val_root_mean_squared_error: 1.2000\n",
            "Epoch 6/20\n",
            "2333/2344 [============================>.] - ETA: 0s - loss: 2.0959 - root_mean_squared_error: 1.4477"
          ]
        },
        {
          "output_type": "stream",
          "name": "stderr",
          "text": [
            "WARNING:absl:Found untraced functions such as lstm_cell_2_layer_call_fn, lstm_cell_2_layer_call_and_return_conditional_losses while saving (showing 2 of 2). These functions will not be directly callable after loading.\n"
          ]
        },
        {
          "output_type": "stream",
          "name": "stdout",
          "text": [
            "\b\b\b\b\b\b\b\b\b\b\b\b\b\b\b\b\b\b\b\b\b\b\b\b\b\b\b\b\b\b\b\b\b\b\b\b\b\b\b\b\b\b\b\b\b\b\b\b\b\b\b\b\b\b\b\b\b\b\b\b\b\b\b\b\b\b\b\b\b\b\b\b\b\b\b\b\b\b\b\b\b\b\b\b\b\b\b\b\b\b\b\b\b\b\b\b\b\b\b\b\b\r2344/2344 [==============================] - 14s 6ms/step - loss: 2.0928 - root_mean_squared_error: 1.4466 - val_loss: 1.4017 - val_root_mean_squared_error: 1.1839\n",
            "Epoch 7/20\n",
            "2343/2344 [============================>.] - ETA: 0s - loss: 2.0782 - root_mean_squared_error: 1.4416"
          ]
        },
        {
          "output_type": "stream",
          "name": "stderr",
          "text": [
            "WARNING:absl:Found untraced functions such as lstm_cell_2_layer_call_fn, lstm_cell_2_layer_call_and_return_conditional_losses while saving (showing 2 of 2). These functions will not be directly callable after loading.\n"
          ]
        },
        {
          "output_type": "stream",
          "name": "stdout",
          "text": [
            "\b\b\b\b\b\b\b\b\b\b\b\b\b\b\b\b\b\b\b\b\b\b\b\b\b\b\b\b\b\b\b\b\b\b\b\b\b\b\b\b\b\b\b\b\b\b\b\b\b\b\b\b\b\b\b\b\b\b\b\b\b\b\b\b\b\b\b\b\b\b\b\b\b\b\b\b\b\b\b\b\b\b\b\b\b\b\b\b\b\b\b\b\b\b\b\b\b\b\b\b\b\r2344/2344 [==============================] - 13s 5ms/step - loss: 2.0783 - root_mean_squared_error: 1.4416 - val_loss: 1.3886 - val_root_mean_squared_error: 1.1784\n",
            "Epoch 8/20\n",
            "2344/2344 [==============================] - 9s 4ms/step - loss: 2.0656 - root_mean_squared_error: 1.4372 - val_loss: 1.3896 - val_root_mean_squared_error: 1.1788\n",
            "Epoch 9/20\n",
            "2343/2344 [============================>.] - ETA: 0s - loss: 2.0584 - root_mean_squared_error: 1.4347"
          ]
        },
        {
          "output_type": "stream",
          "name": "stderr",
          "text": [
            "WARNING:absl:Found untraced functions such as lstm_cell_2_layer_call_fn, lstm_cell_2_layer_call_and_return_conditional_losses while saving (showing 2 of 2). These functions will not be directly callable after loading.\n"
          ]
        },
        {
          "output_type": "stream",
          "name": "stdout",
          "text": [
            "\b\b\b\b\b\b\b\b\b\b\b\b\b\b\b\b\b\b\b\b\b\b\b\b\b\b\b\b\b\b\b\b\b\b\b\b\b\b\b\b\b\b\b\b\b\b\b\b\b\b\b\b\b\b\b\b\b\b\b\b\b\b\b\b\b\b\b\b\b\b\b\b\b\b\b\b\b\b\b\b\b\b\b\b\b\b\b\b\b\b\b\b\b\b\b\b\b\b\b\b\b\r2344/2344 [==============================] - 13s 6ms/step - loss: 2.0585 - root_mean_squared_error: 1.4347 - val_loss: 1.3729 - val_root_mean_squared_error: 1.1717\n",
            "Epoch 10/20\n",
            "2344/2344 [==============================] - 9s 4ms/step - loss: 2.0502 - root_mean_squared_error: 1.4318 - val_loss: 1.3732 - val_root_mean_squared_error: 1.1718\n",
            "Epoch 11/20\n",
            "2343/2344 [============================>.] - ETA: 0s - loss: 2.0433 - root_mean_squared_error: 1.4295"
          ]
        },
        {
          "output_type": "stream",
          "name": "stderr",
          "text": [
            "WARNING:absl:Found untraced functions such as lstm_cell_2_layer_call_fn, lstm_cell_2_layer_call_and_return_conditional_losses while saving (showing 2 of 2). These functions will not be directly callable after loading.\n"
          ]
        },
        {
          "output_type": "stream",
          "name": "stdout",
          "text": [
            "\b\b\b\b\b\b\b\b\b\b\b\b\b\b\b\b\b\b\b\b\b\b\b\b\b\b\b\b\b\b\b\b\b\b\b\b\b\b\b\b\b\b\b\b\b\b\b\b\b\b\b\b\b\b\b\b\b\b\b\b\b\b\b\b\b\b\b\b\b\b\b\b\b\b\b\b\b\b\b\b\b\b\b\b\b\b\b\b\b\b\b\b\b\b\b\b\b\b\b\b\b\r2344/2344 [==============================] - 14s 6ms/step - loss: 2.0430 - root_mean_squared_error: 1.4293 - val_loss: 1.3700 - val_root_mean_squared_error: 1.1705\n",
            "Epoch 12/20\n",
            "2344/2344 [==============================] - 9s 4ms/step - loss: 2.0357 - root_mean_squared_error: 1.4268 - val_loss: 1.3703 - val_root_mean_squared_error: 1.1706\n",
            "Epoch 13/20\n",
            "2344/2344 [==============================] - 9s 4ms/step - loss: 2.0307 - root_mean_squared_error: 1.4250 - val_loss: 1.3784 - val_root_mean_squared_error: 1.1741\n",
            "Epoch 14/20\n",
            "2344/2344 [==============================] - 9s 4ms/step - loss: 2.0261 - root_mean_squared_error: 1.4234 - val_loss: 1.3721 - val_root_mean_squared_error: 1.1714\n",
            "Epoch 15/20\n",
            "2342/2344 [============================>.] - ETA: 0s - loss: 2.0187 - root_mean_squared_error: 1.4208"
          ]
        },
        {
          "output_type": "stream",
          "name": "stderr",
          "text": [
            "WARNING:absl:Found untraced functions such as lstm_cell_2_layer_call_fn, lstm_cell_2_layer_call_and_return_conditional_losses while saving (showing 2 of 2). These functions will not be directly callable after loading.\n"
          ]
        },
        {
          "output_type": "stream",
          "name": "stdout",
          "text": [
            "\b\b\b\b\b\b\b\b\b\b\b\b\b\b\b\b\b\b\b\b\b\b\b\b\b\b\b\b\b\b\b\b\b\b\b\b\b\b\b\b\b\b\b\b\b\b\b\b\b\b\b\b\b\b\b\b\b\b\b\b\b\b\b\b\b\b\b\b\b\b\b\b\b\b\b\b\b\b\b\b\b\b\b\b\b\b\b\b\b\b\b\b\b\b\b\b\b\b\b\b\b\r2344/2344 [==============================] - 13s 6ms/step - loss: 2.0207 - root_mean_squared_error: 1.4215 - val_loss: 1.3680 - val_root_mean_squared_error: 1.1696\n",
            "Epoch 16/20\n",
            "2331/2344 [============================>.] - ETA: 0s - loss: 2.0168 - root_mean_squared_error: 1.4201"
          ]
        },
        {
          "output_type": "stream",
          "name": "stderr",
          "text": [
            "WARNING:absl:Found untraced functions such as lstm_cell_2_layer_call_fn, lstm_cell_2_layer_call_and_return_conditional_losses while saving (showing 2 of 2). These functions will not be directly callable after loading.\n"
          ]
        },
        {
          "output_type": "stream",
          "name": "stdout",
          "text": [
            "\b\b\b\b\b\b\b\b\b\b\b\b\b\b\b\b\b\b\b\b\b\b\b\b\b\b\b\b\b\b\b\b\b\b\b\b\b\b\b\b\b\b\b\b\b\b\b\b\b\b\b\b\b\b\b\b\b\b\b\b\b\b\b\b\b\b\b\b\b\b\b\b\b\b\b\b\b\b\b\b\b\b\b\b\b\b\b\b\b\b\b\b\b\b\b\b\b\b\b\b\b\r2344/2344 [==============================] - 13s 6ms/step - loss: 2.0164 - root_mean_squared_error: 1.4200 - val_loss: 1.3458 - val_root_mean_squared_error: 1.1601\n",
            "Epoch 17/20\n",
            "2344/2344 [==============================] - 9s 4ms/step - loss: 2.0132 - root_mean_squared_error: 1.4189 - val_loss: 1.3823 - val_root_mean_squared_error: 1.1757\n",
            "Epoch 18/20\n",
            "2344/2344 [==============================] - 9s 4ms/step - loss: 2.0089 - root_mean_squared_error: 1.4174 - val_loss: 1.3476 - val_root_mean_squared_error: 1.1609\n",
            "Epoch 19/20\n",
            "2333/2344 [============================>.] - ETA: 0s - loss: 2.0045 - root_mean_squared_error: 1.4158"
          ]
        },
        {
          "output_type": "stream",
          "name": "stderr",
          "text": [
            "WARNING:absl:Found untraced functions such as lstm_cell_2_layer_call_fn, lstm_cell_2_layer_call_and_return_conditional_losses while saving (showing 2 of 2). These functions will not be directly callable after loading.\n"
          ]
        },
        {
          "output_type": "stream",
          "name": "stdout",
          "text": [
            "\b\b\b\b\b\b\b\b\b\b\b\b\b\b\b\b\b\b\b\b\b\b\b\b\b\b\b\b\b\b\b\b\b\b\b\b\b\b\b\b\b\b\b\b\b\b\b\b\b\b\b\b\b\b\b\b\b\b\b\b\b\b\b\b\b\b\b\b\b\b\b\b\b\b\b\b\b\b\b\b\b\b\b\b\b\b\b\b\b\b\b\b\b\b\b\b\b\b\b\b\b\r2344/2344 [==============================] - 13s 5ms/step - loss: 2.0048 - root_mean_squared_error: 1.4159 - val_loss: 1.3348 - val_root_mean_squared_error: 1.1553\n",
            "Epoch 20/20\n",
            "2344/2344 [==============================] - 9s 4ms/step - loss: 2.0024 - root_mean_squared_error: 1.4151 - val_loss: 1.3527 - val_root_mean_squared_error: 1.1631\n"
          ]
        },
        {
          "output_type": "execute_result",
          "data": {
            "text/plain": [
              "<keras.callbacks.History at 0x7f92f7416040>"
            ]
          },
          "metadata": {},
          "execution_count": 45
        }
      ]
    },
    {
      "cell_type": "code",
      "source": [
        "import keras\n",
        "model1 = keras.models.load_model('/tmp/model')"
      ],
      "metadata": {
        "id": "Ske_0RKBsLQy"
      },
      "execution_count": null,
      "outputs": []
    },
    {
      "cell_type": "code",
      "source": [
        "train_predictions = model1.predict(X_train1).flatten()\n",
        "train_results = pd.DataFrame(data={'Train Predictions':train_predictions, 'Actuals':y_train1})\n",
        "train_results"
      ],
      "metadata": {
        "colab": {
          "base_uri": "https://localhost:8080/",
          "height": 442
        },
        "id": "2U9H4e_ftCMx",
        "outputId": "7ce7b4be-c744-487f-acde-8ddf13bf63da"
      },
      "execution_count": null,
      "outputs": [
        {
          "output_type": "stream",
          "name": "stdout",
          "text": [
            "2344/2344 [==============================] - 5s 2ms/step\n"
          ]
        },
        {
          "output_type": "execute_result",
          "data": {
            "text/plain": [
              "       Train Predictions    Actuals\n",
              "0               8.542180   9.222222\n",
              "1               9.412723   7.733333\n",
              "2               7.476253   8.772222\n",
              "3               8.567008  10.822222\n",
              "4              11.887624  13.772222\n",
              "...                  ...        ...\n",
              "74995          11.416194  11.044444\n",
              "74996          10.846444  10.533333\n",
              "74997          10.202121  10.533333\n",
              "74998          10.354378  12.644444\n",
              "74999          13.582228  16.005556\n",
              "\n",
              "[75000 rows x 2 columns]"
            ],
            "text/html": [
              "\n",
              "  <div id=\"df-b5ab3eed-7c91-4a7a-9fc5-82af717800e1\">\n",
              "    <div class=\"colab-df-container\">\n",
              "      <div>\n",
              "<style scoped>\n",
              "    .dataframe tbody tr th:only-of-type {\n",
              "        vertical-align: middle;\n",
              "    }\n",
              "\n",
              "    .dataframe tbody tr th {\n",
              "        vertical-align: top;\n",
              "    }\n",
              "\n",
              "    .dataframe thead th {\n",
              "        text-align: right;\n",
              "    }\n",
              "</style>\n",
              "<table border=\"1\" class=\"dataframe\">\n",
              "  <thead>\n",
              "    <tr style=\"text-align: right;\">\n",
              "      <th></th>\n",
              "      <th>Train Predictions</th>\n",
              "      <th>Actuals</th>\n",
              "    </tr>\n",
              "  </thead>\n",
              "  <tbody>\n",
              "    <tr>\n",
              "      <th>0</th>\n",
              "      <td>8.542180</td>\n",
              "      <td>9.222222</td>\n",
              "    </tr>\n",
              "    <tr>\n",
              "      <th>1</th>\n",
              "      <td>9.412723</td>\n",
              "      <td>7.733333</td>\n",
              "    </tr>\n",
              "    <tr>\n",
              "      <th>2</th>\n",
              "      <td>7.476253</td>\n",
              "      <td>8.772222</td>\n",
              "    </tr>\n",
              "    <tr>\n",
              "      <th>3</th>\n",
              "      <td>8.567008</td>\n",
              "      <td>10.822222</td>\n",
              "    </tr>\n",
              "    <tr>\n",
              "      <th>4</th>\n",
              "      <td>11.887624</td>\n",
              "      <td>13.772222</td>\n",
              "    </tr>\n",
              "    <tr>\n",
              "      <th>...</th>\n",
              "      <td>...</td>\n",
              "      <td>...</td>\n",
              "    </tr>\n",
              "    <tr>\n",
              "      <th>74995</th>\n",
              "      <td>11.416194</td>\n",
              "      <td>11.044444</td>\n",
              "    </tr>\n",
              "    <tr>\n",
              "      <th>74996</th>\n",
              "      <td>10.846444</td>\n",
              "      <td>10.533333</td>\n",
              "    </tr>\n",
              "    <tr>\n",
              "      <th>74997</th>\n",
              "      <td>10.202121</td>\n",
              "      <td>10.533333</td>\n",
              "    </tr>\n",
              "    <tr>\n",
              "      <th>74998</th>\n",
              "      <td>10.354378</td>\n",
              "      <td>12.644444</td>\n",
              "    </tr>\n",
              "    <tr>\n",
              "      <th>74999</th>\n",
              "      <td>13.582228</td>\n",
              "      <td>16.005556</td>\n",
              "    </tr>\n",
              "  </tbody>\n",
              "</table>\n",
              "<p>75000 rows × 2 columns</p>\n",
              "</div>\n",
              "      <button class=\"colab-df-convert\" onclick=\"convertToInteractive('df-b5ab3eed-7c91-4a7a-9fc5-82af717800e1')\"\n",
              "              title=\"Convert this dataframe to an interactive table.\"\n",
              "              style=\"display:none;\">\n",
              "        \n",
              "  <svg xmlns=\"http://www.w3.org/2000/svg\" height=\"24px\"viewBox=\"0 0 24 24\"\n",
              "       width=\"24px\">\n",
              "    <path d=\"M0 0h24v24H0V0z\" fill=\"none\"/>\n",
              "    <path d=\"M18.56 5.44l.94 2.06.94-2.06 2.06-.94-2.06-.94-.94-2.06-.94 2.06-2.06.94zm-11 1L8.5 8.5l.94-2.06 2.06-.94-2.06-.94L8.5 2.5l-.94 2.06-2.06.94zm10 10l.94 2.06.94-2.06 2.06-.94-2.06-.94-.94-2.06-.94 2.06-2.06.94z\"/><path d=\"M17.41 7.96l-1.37-1.37c-.4-.4-.92-.59-1.43-.59-.52 0-1.04.2-1.43.59L10.3 9.45l-7.72 7.72c-.78.78-.78 2.05 0 2.83L4 21.41c.39.39.9.59 1.41.59.51 0 1.02-.2 1.41-.59l7.78-7.78 2.81-2.81c.8-.78.8-2.07 0-2.86zM5.41 20L4 18.59l7.72-7.72 1.47 1.35L5.41 20z\"/>\n",
              "  </svg>\n",
              "      </button>\n",
              "      \n",
              "  <style>\n",
              "    .colab-df-container {\n",
              "      display:flex;\n",
              "      flex-wrap:wrap;\n",
              "      gap: 12px;\n",
              "    }\n",
              "\n",
              "    .colab-df-convert {\n",
              "      background-color: #E8F0FE;\n",
              "      border: none;\n",
              "      border-radius: 50%;\n",
              "      cursor: pointer;\n",
              "      display: none;\n",
              "      fill: #1967D2;\n",
              "      height: 32px;\n",
              "      padding: 0 0 0 0;\n",
              "      width: 32px;\n",
              "    }\n",
              "\n",
              "    .colab-df-convert:hover {\n",
              "      background-color: #E2EBFA;\n",
              "      box-shadow: 0px 1px 2px rgba(60, 64, 67, 0.3), 0px 1px 3px 1px rgba(60, 64, 67, 0.15);\n",
              "      fill: #174EA6;\n",
              "    }\n",
              "\n",
              "    [theme=dark] .colab-df-convert {\n",
              "      background-color: #3B4455;\n",
              "      fill: #D2E3FC;\n",
              "    }\n",
              "\n",
              "    [theme=dark] .colab-df-convert:hover {\n",
              "      background-color: #434B5C;\n",
              "      box-shadow: 0px 1px 3px 1px rgba(0, 0, 0, 0.15);\n",
              "      filter: drop-shadow(0px 1px 2px rgba(0, 0, 0, 0.3));\n",
              "      fill: #FFFFFF;\n",
              "    }\n",
              "  </style>\n",
              "\n",
              "      <script>\n",
              "        const buttonEl =\n",
              "          document.querySelector('#df-b5ab3eed-7c91-4a7a-9fc5-82af717800e1 button.colab-df-convert');\n",
              "        buttonEl.style.display =\n",
              "          google.colab.kernel.accessAllowed ? 'block' : 'none';\n",
              "\n",
              "        async function convertToInteractive(key) {\n",
              "          const element = document.querySelector('#df-b5ab3eed-7c91-4a7a-9fc5-82af717800e1');\n",
              "          const dataTable =\n",
              "            await google.colab.kernel.invokeFunction('convertToInteractive',\n",
              "                                                     [key], {});\n",
              "          if (!dataTable) return;\n",
              "\n",
              "          const docLinkHtml = 'Like what you see? Visit the ' +\n",
              "            '<a target=\"_blank\" href=https://colab.research.google.com/notebooks/data_table.ipynb>data table notebook</a>'\n",
              "            + ' to learn more about interactive tables.';\n",
              "          element.innerHTML = '';\n",
              "          dataTable['output_type'] = 'display_data';\n",
              "          await google.colab.output.renderOutput(dataTable, element);\n",
              "          const docLink = document.createElement('div');\n",
              "          docLink.innerHTML = docLinkHtml;\n",
              "          element.appendChild(docLink);\n",
              "        }\n",
              "      </script>\n",
              "    </div>\n",
              "  </div>\n",
              "  "
            ]
          },
          "metadata": {},
          "execution_count": 47
        }
      ]
    },
    {
      "cell_type": "code",
      "source": [
        "import matplotlib.pyplot as plt\n",
        "plt.plot(train_results['Train Predictions'][750:950])\n",
        "plt.plot(train_results['Actuals'][750:950])"
      ],
      "metadata": {
        "colab": {
          "base_uri": "https://localhost:8080/",
          "height": 283
        },
        "id": "piHxFuFLtGcD",
        "outputId": "02c4df9c-cbc1-4aad-97f6-9fa7927d3f57"
      },
      "execution_count": null,
      "outputs": [
        {
          "output_type": "execute_result",
          "data": {
            "text/plain": [
              "[<matplotlib.lines.Line2D at 0x7f92f4ec4d30>]"
            ]
          },
          "metadata": {},
          "execution_count": 48
        },
        {
          "output_type": "display_data",
          "data": {
            "text/plain": [
              "<Figure size 432x288 with 1 Axes>"
            ],
            "image/png": "[encoded data removed]"
          },
          "metadata": {
            "needs_background": "light"
          }
        }
      ]
    },
    {
      "cell_type": "code",
      "source": [
        "val_predictions = model1.predict(X_val1).flatten()\n",
        "val_results = pd.DataFrame(data={'Val Predictions':val_predictions, 'Actuals':y_val1})\n",
        "val_results"
      ],
      "metadata": {
        "colab": {
          "base_uri": "https://localhost:8080/",
          "height": 442
        },
        "id": "FDWVVYFjtOcU",
        "outputId": "10cc3bba-8bd4-4626-998b-ba9d061ccc0f"
      },
      "execution_count": null,
      "outputs": [
        {
          "output_type": "stream",
          "name": "stdout",
          "text": [
            "313/313 [==============================] - 1s 2ms/step\n"
          ]
        },
        {
          "output_type": "execute_result",
          "data": {
            "text/plain": [
              "      Val Predictions    Actuals\n",
              "0           18.615700  20.777778\n",
              "1           23.266979  22.755556\n",
              "2           24.119154  23.888889\n",
              "3           24.816357  24.922222\n",
              "4           25.469212  25.022222\n",
              "...               ...        ...\n",
              "9995        25.870892  26.250000\n",
              "9996        24.205839  23.722222\n",
              "9997        21.868677  19.950000\n",
              "9998        18.858032  18.327778\n",
              "9999        17.363548  13.888889\n",
              "\n",
              "[10000 rows x 2 columns]"
            ],
            "text/html": [
              "\n",
              "  <div id=\"df-22ecd579-282b-4e0e-b68e-1b8205679f97\">\n",
              "    <div class=\"colab-df-container\">\n",
              "      <div>\n",
              "<style scoped>\n",
              "    .dataframe tbody tr th:only-of-type {\n",
              "        vertical-align: middle;\n",
              "    }\n",
              "\n",
              "    .dataframe tbody tr th {\n",
              "        vertical-align: top;\n",
              "    }\n",
              "\n",
              "    .dataframe thead th {\n",
              "        text-align: right;\n",
              "    }\n",
              "</style>\n",
              "<table border=\"1\" class=\"dataframe\">\n",
              "  <thead>\n",
              "    <tr style=\"text-align: right;\">\n",
              "      <th></th>\n",
              "      <th>Val Predictions</th>\n",
              "      <th>Actuals</th>\n",
              "    </tr>\n",
              "  </thead>\n",
              "  <tbody>\n",
              "    <tr>\n",
              "      <th>0</th>\n",
              "      <td>18.615700</td>\n",
              "      <td>20.777778</td>\n",
              "    </tr>\n",
              "    <tr>\n",
              "      <th>1</th>\n",
              "      <td>23.266979</td>\n",
              "      <td>22.755556</td>\n",
              "    </tr>\n",
              "    <tr>\n",
              "      <th>2</th>\n",
              "      <td>24.119154</td>\n",
              "      <td>23.888889</td>\n",
              "    </tr>\n",
              "    <tr>\n",
              "      <th>3</th>\n",
              "      <td>24.816357</td>\n",
              "      <td>24.922222</td>\n",
              "    </tr>\n",
              "    <tr>\n",
              "      <th>4</th>\n",
              "      <td>25.469212</td>\n",
              "      <td>25.022222</td>\n",
              "    </tr>\n",
              "    <tr>\n",
              "      <th>...</th>\n",
              "      <td>...</td>\n",
              "      <td>...</td>\n",
              "    </tr>\n",
              "    <tr>\n",
              "      <th>9995</th>\n",
              "      <td>25.870892</td>\n",
              "      <td>26.250000</td>\n",
              "    </tr>\n",
              "    <tr>\n",
              "      <th>9996</th>\n",
              "      <td>24.205839</td>\n",
              "      <td>23.722222</td>\n",
              "    </tr>\n",
              "    <tr>\n",
              "      <th>9997</th>\n",
              "      <td>21.868677</td>\n",
              "      <td>19.950000</td>\n",
              "    </tr>\n",
              "    <tr>\n",
              "      <th>9998</th>\n",
              "      <td>18.858032</td>\n",
              "      <td>18.327778</td>\n",
              "    </tr>\n",
              "    <tr>\n",
              "      <th>9999</th>\n",
              "      <td>17.363548</td>\n",
              "      <td>13.888889</td>\n",
              "    </tr>\n",
              "  </tbody>\n",
              "</table>\n",
              "<p>10000 rows × 2 columns</p>\n",
              "</div>\n",
              "      <button class=\"colab-df-convert\" onclick=\"convertToInteractive('df-22ecd579-282b-4e0e-b68e-1b8205679f97')\"\n",
              "              title=\"Convert this dataframe to an interactive table.\"\n",
              "              style=\"display:none;\">\n",
              "        \n",
              "  <svg xmlns=\"http://www.w3.org/2000/svg\" height=\"24px\"viewBox=\"0 0 24 24\"\n",
              "       width=\"24px\">\n",
              "    <path d=\"M0 0h24v24H0V0z\" fill=\"none\"/>\n",
              "    <path d=\"M18.56 5.44l.94 2.06.94-2.06 2.06-.94-2.06-.94-.94-2.06-.94 2.06-2.06.94zm-11 1L8.5 8.5l.94-2.06 2.06-.94-2.06-.94L8.5 2.5l-.94 2.06-2.06.94zm10 10l.94 2.06.94-2.06 2.06-.94-2.06-.94-.94-2.06-.94 2.06-2.06.94z\"/><path d=\"M17.41 7.96l-1.37-1.37c-.4-.4-.92-.59-1.43-.59-.52 0-1.04.2-1.43.59L10.3 9.45l-7.72 7.72c-.78.78-.78 2.05 0 2.83L4 21.41c.39.39.9.59 1.41.59.51 0 1.02-.2 1.41-.59l7.78-7.78 2.81-2.81c.8-.78.8-2.07 0-2.86zM5.41 20L4 18.59l7.72-7.72 1.47 1.35L5.41 20z\"/>\n",
              "  </svg>\n",
              "      </button>\n",
              "      \n",
              "  <style>\n",
              "    .colab-df-container {\n",
              "      display:flex;\n",
              "      flex-wrap:wrap;\n",
              "      gap: 12px;\n",
              "    }\n",
              "\n",
              "    .colab-df-convert {\n",
              "      background-color: #E8F0FE;\n",
              "      border: none;\n",
              "      border-radius: 50%;\n",
              "      cursor: pointer;\n",
              "      display: none;\n",
              "      fill: #1967D2;\n",
              "      height: 32px;\n",
              "      padding: 0 0 0 0;\n",
              "      width: 32px;\n",
              "    }\n",
              "\n",
              "    .colab-df-convert:hover {\n",
              "      background-color: #E2EBFA;\n",
              "      box-shadow: 0px 1px 2px rgba(60, 64, 67, 0.3), 0px 1px 3px 1px rgba(60, 64, 67, 0.15);\n",
              "      fill: #174EA6;\n",
              "    }\n",
              "\n",
              "    [theme=dark] .colab-df-convert {\n",
              "      background-color: #3B4455;\n",
              "      fill: #D2E3FC;\n",
              "    }\n",
              "\n",
              "    [theme=dark] .colab-df-convert:hover {\n",
              "      background-color: #434B5C;\n",
              "      box-shadow: 0px 1px 3px 1px rgba(0, 0, 0, 0.15);\n",
              "      filter: drop-shadow(0px 1px 2px rgba(0, 0, 0, 0.3));\n",
              "      fill: #FFFFFF;\n",
              "    }\n",
              "  </style>\n",
              "\n",
              "      <script>\n",
              "        const buttonEl =\n",
              "          document.querySelector('#df-22ecd579-282b-4e0e-b68e-1b8205679f97 button.colab-df-convert');\n",
              "        buttonEl.style.display =\n",
              "          google.colab.kernel.accessAllowed ? 'block' : 'none';\n",
              "\n",
              "        async function convertToInteractive(key) {\n",
              "          const element = document.querySelector('#df-22ecd579-282b-4e0e-b68e-1b8205679f97');\n",
              "          const dataTable =\n",
              "            await google.colab.kernel.invokeFunction('convertToInteractive',\n",
              "                                                     [key], {});\n",
              "          if (!dataTable) return;\n",
              "\n",
              "          const docLinkHtml = 'Like what you see? Visit the ' +\n",
              "            '<a target=\"_blank\" href=https://colab.research.google.com/notebooks/data_table.ipynb>data table notebook</a>'\n",
              "            + ' to learn more about interactive tables.';\n",
              "          element.innerHTML = '';\n",
              "          dataTable['output_type'] = 'display_data';\n",
              "          await google.colab.output.renderOutput(dataTable, element);\n",
              "          const docLink = document.createElement('div');\n",
              "          docLink.innerHTML = docLinkHtml;\n",
              "          element.appendChild(docLink);\n",
              "        }\n",
              "      </script>\n",
              "    </div>\n",
              "  </div>\n",
              "  "
            ]
          },
          "metadata": {},
          "execution_count": 49
        }
      ]
    },
    {
      "cell_type": "code",
      "source": [
        "plt.plot(val_results['Val Predictions'][:200])\n",
        "plt.plot(val_results['Actuals'][:200])"
      ],
      "metadata": {
        "colab": {
          "base_uri": "https://localhost:8080/",
          "height": 283
        },
        "id": "CxIShvdJtWoN",
        "outputId": "b2f3bbfd-d4ba-4f9b-c6e3-d746bf6452ab"
      },
      "execution_count": null,
      "outputs": [
        {
          "output_type": "execute_result",
          "data": {
            "text/plain": [
              "[<matplotlib.lines.Line2D at 0x7f92f4e88ca0>]"
            ]
          },
          "metadata": {},
          "execution_count": 50
        },
        {
          "output_type": "display_data",
          "data": {
            "text/plain": [
              "<Figure size 432x288 with 1 Axes>"
            ],
            "image/png": "[encoded data removed]"
          },
          "metadata": {
            "needs_background": "light"
          }
        }
      ]
    },
    {
      "cell_type": "code",
      "source": [
        "test_predictions = model1.predict(X_test1).flatten()\n",
        "test_results = pd.DataFrame(data={'Test Predictions':test_predictions, 'Actuals':y_test1})\n",
        "test_results"
      ],
      "metadata": {
        "colab": {
          "base_uri": "https://localhost:8080/",
          "height": 442
        },
        "id": "MJhf2ii5tbMq",
        "outputId": "50e0e610-67f9-4fe5-d490-a6e72ba44f15"
      },
      "execution_count": null,
      "outputs": [
        {
          "output_type": "stream",
          "name": "stdout",
          "text": [
            "358/358 [==============================] - 1s 2ms/step\n"
          ]
        },
        {
          "output_type": "execute_result",
          "data": {
            "text/plain": [
              "       Test Predictions    Actuals\n",
              "0             13.431273  14.400000\n",
              "1             13.441884  14.566667\n",
              "2             14.249949  14.466667\n",
              "3             14.927525  13.844444\n",
              "4             13.490830  12.922222\n",
              "...                 ...        ...\n",
              "11443         26.965286  26.016667\n",
              "11444         23.756338  24.583333\n",
              "11445         22.755913  22.038889\n",
              "11446         20.565475  21.522222\n",
              "11447         20.160059  20.438889\n",
              "\n",
              "[11448 rows x 2 columns]"
            ],
            "text/html": [
              "\n",
              "  <div id=\"df-c71f199a-323a-4d82-8276-df10a4ced4d1\">\n",
              "    <div class=\"colab-df-container\">\n",
              "      <div>\n",
              "<style scoped>\n",
              "    .dataframe tbody tr th:only-of-type {\n",
              "        vertical-align: middle;\n",
              "    }\n",
              "\n",
              "    .dataframe tbody tr th {\n",
              "        vertical-align: top;\n",
              "    }\n",
              "\n",
              "    .dataframe thead th {\n",
              "        text-align: right;\n",
              "    }\n",
              "</style>\n",
              "<table border=\"1\" class=\"dataframe\">\n",
              "  <thead>\n",
              "    <tr style=\"text-align: right;\">\n",
              "      <th></th>\n",
              "      <th>Test Predictions</th>\n",
              "      <th>Actuals</th>\n",
              "    </tr>\n",
              "  </thead>\n",
              "  <tbody>\n",
              "    <tr>\n",
              "      <th>0</th>\n",
              "      <td>13.431273</td>\n",
              "      <td>14.400000</td>\n",
              "    </tr>\n",
              "    <tr>\n",
              "      <th>1</th>\n",
              "      <td>13.441884</td>\n",
              "      <td>14.566667</td>\n",
              "    </tr>\n",
              "    <tr>\n",
              "      <th>2</th>\n",
              "      <td>14.249949</td>\n",
              "      <td>14.466667</td>\n",
              "    </tr>\n",
              "    <tr>\n",
              "      <th>3</th>\n",
              "      <td>14.927525</td>\n",
              "      <td>13.844444</td>\n",
              "    </tr>\n",
              "    <tr>\n",
              "      <th>4</th>\n",
              "      <td>13.490830</td>\n",
              "      <td>12.922222</td>\n",
              "    </tr>\n",
              "    <tr>\n",
              "      <th>...</th>\n",
              "      <td>...</td>\n",
              "      <td>...</td>\n",
              "    </tr>\n",
              "    <tr>\n",
              "      <th>11443</th>\n",
              "      <td>26.965286</td>\n",
              "      <td>26.016667</td>\n",
              "    </tr>\n",
              "    <tr>\n",
              "      <th>11444</th>\n",
              "      <td>23.756338</td>\n",
              "      <td>24.583333</td>\n",
              "    </tr>\n",
              "    <tr>\n",
              "      <th>11445</th>\n",
              "      <td>22.755913</td>\n",
              "      <td>22.038889</td>\n",
              "    </tr>\n",
              "    <tr>\n",
              "      <th>11446</th>\n",
              "      <td>20.565475</td>\n",
              "      <td>21.522222</td>\n",
              "    </tr>\n",
              "    <tr>\n",
              "      <th>11447</th>\n",
              "      <td>20.160059</td>\n",
              "      <td>20.438889</td>\n",
              "    </tr>\n",
              "  </tbody>\n",
              "</table>\n",
              "<p>11448 rows × 2 columns</p>\n",
              "</div>\n",
              "      <button class=\"colab-df-convert\" onclick=\"convertToInteractive('df-c71f199a-323a-4d82-8276-df10a4ced4d1')\"\n",
              "              title=\"Convert this dataframe to an interactive table.\"\n",
              "              style=\"display:none;\">\n",
              "        \n",
              "  <svg xmlns=\"http://www.w3.org/2000/svg\" height=\"24px\"viewBox=\"0 0 24 24\"\n",
              "       width=\"24px\">\n",
              "    <path d=\"M0 0h24v24H0V0z\" fill=\"none\"/>\n",
              "    <path d=\"M18.56 5.44l.94 2.06.94-2.06 2.06-.94-2.06-.94-.94-2.06-.94 2.06-2.06.94zm-11 1L8.5 8.5l.94-2.06 2.06-.94-2.06-.94L8.5 2.5l-.94 2.06-2.06.94zm10 10l.94 2.06.94-2.06 2.06-.94-2.06-.94-.94-2.06-.94 2.06-2.06.94z\"/><path d=\"M17.41 7.96l-1.37-1.37c-.4-.4-.92-.59-1.43-.59-.52 0-1.04.2-1.43.59L10.3 9.45l-7.72 7.72c-.78.78-.78 2.05 0 2.83L4 21.41c.39.39.9.59 1.41.59.51 0 1.02-.2 1.41-.59l7.78-7.78 2.81-2.81c.8-.78.8-2.07 0-2.86zM5.41 20L4 18.59l7.72-7.72 1.47 1.35L5.41 20z\"/>\n",
              "  </svg>\n",
              "      </button>\n",
              "      \n",
              "  <style>\n",
              "    .colab-df-container {\n",
              "      display:flex;\n",
              "      flex-wrap:wrap;\n",
              "      gap: 12px;\n",
              "    }\n",
              "\n",
              "    .colab-df-convert {\n",
              "      background-color: #E8F0FE;\n",
              "      border: none;\n",
              "      border-radius: 50%;\n",
              "      cursor: pointer;\n",
              "      display: none;\n",
              "      fill: #1967D2;\n",
              "      height: 32px;\n",
              "      padding: 0 0 0 0;\n",
              "      width: 32px;\n",
              "    }\n",
              "\n",
              "    .colab-df-convert:hover {\n",
              "      background-color: #E2EBFA;\n",
              "      box-shadow: 0px 1px 2px rgba(60, 64, 67, 0.3), 0px 1px 3px 1px rgba(60, 64, 67, 0.15);\n",
              "      fill: #174EA6;\n",
              "    }\n",
              "\n",
              "    [theme=dark] .colab-df-convert {\n",
              "      background-color: #3B4455;\n",
              "      fill: #D2E3FC;\n",
              "    }\n",
              "\n",
              "    [theme=dark] .colab-df-convert:hover {\n",
              "      background-color: #434B5C;\n",
              "      box-shadow: 0px 1px 3px 1px rgba(0, 0, 0, 0.15);\n",
              "      filter: drop-shadow(0px 1px 2px rgba(0, 0, 0, 0.3));\n",
              "      fill: #FFFFFF;\n",
              "    }\n",
              "  </style>\n",
              "\n",
              "      <script>\n",
              "        const buttonEl =\n",
              "          document.querySelector('#df-c71f199a-323a-4d82-8276-df10a4ced4d1 button.colab-df-convert');\n",
              "        buttonEl.style.display =\n",
              "          google.colab.kernel.accessAllowed ? 'block' : 'none';\n",
              "\n",
              "        async function convertToInteractive(key) {\n",
              "          const element = document.querySelector('#df-c71f199a-323a-4d82-8276-df10a4ced4d1');\n",
              "          const dataTable =\n",
              "            await google.colab.kernel.invokeFunction('convertToInteractive',\n",
              "                                                     [key], {});\n",
              "          if (!dataTable) return;\n",
              "\n",
              "          const docLinkHtml = 'Like what you see? Visit the ' +\n",
              "            '<a target=\"_blank\" href=https://colab.research.google.com/notebooks/data_table.ipynb>data table notebook</a>'\n",
              "            + ' to learn more about interactive tables.';\n",
              "          element.innerHTML = '';\n",
              "          dataTable['output_type'] = 'display_data';\n",
              "          await google.colab.output.renderOutput(dataTable, element);\n",
              "          const docLink = document.createElement('div');\n",
              "          docLink.innerHTML = docLinkHtml;\n",
              "          element.appendChild(docLink);\n",
              "        }\n",
              "      </script>\n",
              "    </div>\n",
              "  </div>\n",
              "  "
            ]
          },
          "metadata": {},
          "execution_count": 51
        }
      ]
    },
    {
      "cell_type": "code",
      "source": [
        "plt.figure(figsize=(22,6))\n",
        "plt.xlabel(\"Time(datapoints)\")\n",
        "plt.ylabel(\"Temperature(C)\")\n",
        "plt.title(\"Temperature vs Time\")\n",
        "plt.plot(test_results['Test Predictions'][500:800])\n",
        "plt.plot(test_results['Actuals'][500:800])\n",
        "plt.legend([\"Prediction\", \"Actual values\"])"
      ],
      "metadata": {
        "colab": {
          "base_uri": "https://localhost:8080/",
          "height": 344
        },
        "id": "OY-pGVBxtfXq",
        "outputId": "ef3ac70c-5db4-41d7-d19e-8355775c4bf0"
      },
      "execution_count": null,
      "outputs": [
        {
          "output_type": "execute_result",
          "data": {
            "text/plain": [
              "<matplotlib.legend.Legend at 0x7f929d7ff970>"
            ]
          },
          "metadata": {},
          "execution_count": 60
        },
        {
          "output_type": "display_data",
          "data": {
            "text/plain": [
              "<Figure size 1584x432 with 1 Axes>"
            ],
            "image/png": "[encoded data removed]"
          },
          "metadata": {
            "needs_background": "light"
          }
        }
      ]
    },
    {
      "cell_type": "code",
      "source": [
        "from sklearn.metrics import mean_squared_error as mse\n",
        "\n",
        "def plot_predictions1(model, X, y, start=0, end=100):\n",
        "  predictions = model.predict(X).flatten()\n",
        "  df = pd.DataFrame(data={'Predictions':predictions, 'Actuals':y})\n",
        "  plt.plot(df['Predictions'][start:end])\n",
        "  plt.plot(df['Actuals'][start:end])\n",
        "  plt.xlabel(\"Predictions\")\n",
        "  plt.ylabel(\"Actual values\")\n",
        "  plt.title(\"Prediction vs Actual values\")\n",
        "  plt.legend([\"Prediction\", \"Actual values\"])\n",
        "  return df, mse(y, predictions)"
      ],
      "metadata": {
        "id": "fC4ZkPOV5r1Y"
      },
      "execution_count": null,
      "outputs": []
    },
    {
      "cell_type": "code",
      "source": [
        "plot_predictions1(model1, X_test1, y_test1)"
      ],
      "metadata": {
        "colab": {
          "base_uri": "https://localhost:8080/",
          "height": 563
        },
        "id": "6wq6k0OXqNiz",
        "outputId": "b0b3f825-38d2-4a9c-ea73-609d74909d00"
      },
      "execution_count": null,
      "outputs": [
        {
          "output_type": "stream",
          "name": "stdout",
          "text": [
            "358/358 [==============================] - 1s 2ms/step\n"
          ]
        },
        {
          "output_type": "execute_result",
          "data": {
            "text/plain": [
              "(       Predictions    Actuals\n",
              " 0        13.431273  14.400000\n",
              " 1        13.441884  14.566667\n",
              " 2        14.249949  14.466667\n",
              " 3        14.927525  13.844444\n",
              " 4        13.490830  12.922222\n",
              " ...            ...        ...\n",
              " 11443    26.965286  26.016667\n",
              " 11444    23.756338  24.583333\n",
              " 11445    22.755913  22.038889\n",
              " 11446    20.565475  21.522222\n",
              " 11447    20.160059  20.438889\n",
              " \n",
              " [11448 rows x 2 columns], 1.251537572702717)"
            ]
          },
          "metadata": {},
          "execution_count": 54
        },
        {
          "output_type": "display_data",
          "data": {
            "text/plain": [
              "<Figure size 432x288 with 1 Axes>"
            ],
            "image/png": "[encoded data removed]"
          },
          "metadata": {
            "needs_background": "light"
          }
        }
      ]
    },
    {
      "cell_type": "code",
      "source": [
        "temp_df = pd.DataFrame({'Temperature':temp})\n",
        "temp_df['Seconds'] = temp_df.index.map(pd.Timestamp.timestamp)\n",
        "temp_df"
      ],
      "metadata": {
        "colab": {
          "base_uri": "https://localhost:8080/",
          "height": 455
        },
        "id": "h8Www5m7qXQS",
        "outputId": "1ad7561c-94b8-4ff8-be39-fc9a112519ee"
      },
      "execution_count": null,
      "outputs": [
        {
          "output_type": "execute_result",
          "data": {
            "text/plain": [
              "                     Temperature       Seconds\n",
              "Date                                          \n",
              "2006-04-01 00:00:00     9.472222  1.143850e+09\n",
              "2006-04-01 01:00:00     9.355556  1.143853e+09\n",
              "2006-04-01 02:00:00     9.377778  1.143857e+09\n",
              "2006-04-01 03:00:00     8.288889  1.143860e+09\n",
              "2006-04-01 04:00:00     8.755556  1.143864e+09\n",
              "...                          ...           ...\n",
              "2016-09-09 19:00:00    26.016667  1.473448e+09\n",
              "2016-09-09 20:00:00    24.583333  1.473451e+09\n",
              "2016-09-09 21:00:00    22.038889  1.473455e+09\n",
              "2016-09-09 22:00:00    21.522222  1.473458e+09\n",
              "2016-09-09 23:00:00    20.438889  1.473462e+09\n",
              "\n",
              "[96453 rows x 2 columns]"
            ],
            "text/html": [
              "\n",
              "  <div id=\"df-2ceb0ef1-4586-401c-9e98-bbf4ce4ba85d\">\n",
              "    <div class=\"colab-df-container\">\n",
              "      <div>\n",
              "<style scoped>\n",
              "    .dataframe tbody tr th:only-of-type {\n",
              "        vertical-align: middle;\n",
              "    }\n",
              "\n",
              "    .dataframe tbody tr th {\n",
              "        vertical-align: top;\n",
              "    }\n",
              "\n",
              "    .dataframe thead th {\n",
              "        text-align: right;\n",
              "    }\n",
              "</style>\n",
              "<table border=\"1\" class=\"dataframe\">\n",
              "  <thead>\n",
              "    <tr style=\"text-align: right;\">\n",
              "      <th></th>\n",
              "      <th>Temperature</th>\n",
              "      <th>Seconds</th>\n",
              "    </tr>\n",
              "    <tr>\n",
              "      <th>Date</th>\n",
              "      <th></th>\n",
              "      <th></th>\n",
              "    </tr>\n",
              "  </thead>\n",
              "  <tbody>\n",
              "    <tr>\n",
              "      <th>2006-04-01 00:00:00</th>\n",
              "      <td>9.472222</td>\n",
              "      <td>1.143850e+09</td>\n",
              "    </tr>\n",
              "    <tr>\n",
              "      <th>2006-04-01 01:00:00</th>\n",
              "      <td>9.355556</td>\n",
              "      <td>1.143853e+09</td>\n",
              "    </tr>\n",
              "    <tr>\n",
              "      <th>2006-04-01 02:00:00</th>\n",
              "      <td>9.377778</td>\n",
              "      <td>1.143857e+09</td>\n",
              "    </tr>\n",
              "    <tr>\n",
              "      <th>2006-04-01 03:00:00</th>\n",
              "      <td>8.288889</td>\n",
              "      <td>1.143860e+09</td>\n",
              "    </tr>\n",
              "    <tr>\n",
              "      <th>2006-04-01 04:00:00</th>\n",
              "      <td>8.755556</td>\n",
              "      <td>1.143864e+09</td>\n",
              "    </tr>\n",
              "    <tr>\n",
              "      <th>...</th>\n",
              "      <td>...</td>\n",
              "      <td>...</td>\n",
              "    </tr>\n",
              "    <tr>\n",
              "      <th>2016-09-09 19:00:00</th>\n",
              "      <td>26.016667</td>\n",
              "      <td>1.473448e+09</td>\n",
              "    </tr>\n",
              "    <tr>\n",
              "      <th>2016-09-09 20:00:00</th>\n",
              "      <td>24.583333</td>\n",
              "      <td>1.473451e+09</td>\n",
              "    </tr>\n",
              "    <tr>\n",
              "      <th>2016-09-09 21:00:00</th>\n",
              "      <td>22.038889</td>\n",
              "      <td>1.473455e+09</td>\n",
              "    </tr>\n",
              "    <tr>\n",
              "      <th>2016-09-09 22:00:00</th>\n",
              "      <td>21.522222</td>\n",
              "      <td>1.473458e+09</td>\n",
              "    </tr>\n",
              "    <tr>\n",
              "      <th>2016-09-09 23:00:00</th>\n",
              "      <td>20.438889</td>\n",
              "      <td>1.473462e+09</td>\n",
              "    </tr>\n",
              "  </tbody>\n",
              "</table>\n",
              "<p>96453 rows × 2 columns</p>\n",
              "</div>\n",
              "      <button class=\"colab-df-convert\" onclick=\"convertToInteractive('df-2ceb0ef1-4586-401c-9e98-bbf4ce4ba85d')\"\n",
              "              title=\"Convert this dataframe to an interactive table.\"\n",
              "              style=\"display:none;\">\n",
              "        \n",
              "  <svg xmlns=\"http://www.w3.org/2000/svg\" height=\"24px\"viewBox=\"0 0 24 24\"\n",
              "       width=\"24px\">\n",
              "    <path d=\"M0 0h24v24H0V0z\" fill=\"none\"/>\n",
              "    <path d=\"M18.56 5.44l.94 2.06.94-2.06 2.06-.94-2.06-.94-.94-2.06-.94 2.06-2.06.94zm-11 1L8.5 8.5l.94-2.06 2.06-.94-2.06-.94L8.5 2.5l-.94 2.06-2.06.94zm10 10l.94 2.06.94-2.06 2.06-.94-2.06-.94-.94-2.06-.94 2.06-2.06.94z\"/><path d=\"M17.41 7.96l-1.37-1.37c-.4-.4-.92-.59-1.43-.59-.52 0-1.04.2-1.43.59L10.3 9.45l-7.72 7.72c-.78.78-.78 2.05 0 2.83L4 21.41c.39.39.9.59 1.41.59.51 0 1.02-.2 1.41-.59l7.78-7.78 2.81-2.81c.8-.78.8-2.07 0-2.86zM5.41 20L4 18.59l7.72-7.72 1.47 1.35L5.41 20z\"/>\n",
              "  </svg>\n",
              "      </button>\n",
              "      \n",
              "  <style>\n",
              "    .colab-df-container {\n",
              "      display:flex;\n",
              "      flex-wrap:wrap;\n",
              "      gap: 12px;\n",
              "    }\n",
              "\n",
              "    .colab-df-convert {\n",
              "      background-color: #E8F0FE;\n",
              "      border: none;\n",
              "      border-radius: 50%;\n",
              "      cursor: pointer;\n",
              "      display: none;\n",
              "      fill: #1967D2;\n",
              "      height: 32px;\n",
              "      padding: 0 0 0 0;\n",
              "      width: 32px;\n",
              "    }\n",
              "\n",
              "    .colab-df-convert:hover {\n",
              "      background-color: #E2EBFA;\n",
              "      box-shadow: 0px 1px 2px rgba(60, 64, 67, 0.3), 0px 1px 3px 1px rgba(60, 64, 67, 0.15);\n",
              "      fill: #174EA6;\n",
              "    }\n",
              "\n",
              "    [theme=dark] .colab-df-convert {\n",
              "      background-color: #3B4455;\n",
              "      fill: #D2E3FC;\n",
              "    }\n",
              "\n",
              "    [theme=dark] .colab-df-convert:hover {\n",
              "      background-color: #434B5C;\n",
              "      box-shadow: 0px 1px 3px 1px rgba(0, 0, 0, 0.15);\n",
              "      filter: drop-shadow(0px 1px 2px rgba(0, 0, 0, 0.3));\n",
              "      fill: #FFFFFF;\n",
              "    }\n",
              "  </style>\n",
              "\n",
              "      <script>\n",
              "        const buttonEl =\n",
              "          document.querySelector('#df-2ceb0ef1-4586-401c-9e98-bbf4ce4ba85d button.colab-df-convert');\n",
              "        buttonEl.style.display =\n",
              "          google.colab.kernel.accessAllowed ? 'block' : 'none';\n",
              "\n",
              "        async function convertToInteractive(key) {\n",
              "          const element = document.querySelector('#df-2ceb0ef1-4586-401c-9e98-bbf4ce4ba85d');\n",
              "          const dataTable =\n",
              "            await google.colab.kernel.invokeFunction('convertToInteractive',\n",
              "                                                     [key], {});\n",
              "          if (!dataTable) return;\n",
              "\n",
              "          const docLinkHtml = 'Like what you see? Visit the ' +\n",
              "            '<a target=\"_blank\" href=https://colab.research.google.com/notebooks/data_table.ipynb>data table notebook</a>'\n",
              "            + ' to learn more about interactive tables.';\n",
              "          element.innerHTML = '';\n",
              "          dataTable['output_type'] = 'display_data';\n",
              "          await google.colab.output.renderOutput(dataTable, element);\n",
              "          const docLink = document.createElement('div');\n",
              "          docLink.innerHTML = docLinkHtml;\n",
              "          element.appendChild(docLink);\n",
              "        }\n",
              "      </script>\n",
              "    </div>\n",
              "  </div>\n",
              "  "
            ]
          },
          "metadata": {},
          "execution_count": 26
        }
      ]
    },
    {
      "cell_type": "code",
      "source": [
        "day = 60*60*24\n",
        "year = 365.2425*day\n",
        "\n",
        "temp_df['Day sin'] = np.sin(temp_df['Seconds'] * (2* np.pi / day))\n",
        "temp_df['Day cos'] = np.cos(temp_df['Seconds'] * (2 * np.pi / day))\n",
        "temp_df['Year sin'] = np.sin(temp_df['Seconds'] * (2 * np.pi / year))\n",
        "temp_df['Year cos'] = np.cos(temp_df['Seconds'] * (2 * np.pi / year))\n",
        "temp_df.head()"
      ],
      "metadata": {
        "colab": {
          "base_uri": "https://localhost:8080/",
          "height": 237
        },
        "id": "syAijgKsu20u",
        "outputId": "3cb845a8-492a-4fdc-d97e-afbda59f5d0f"
      },
      "execution_count": null,
      "outputs": [
        {
          "output_type": "execute_result",
          "data": {
            "text/plain": [
              "                     Temperature       Seconds       Day sin   Day cos  \\\n",
              "Date                                                                     \n",
              "2006-04-01 00:00:00     9.472222  1.143850e+09 -4.187642e-12  1.000000   \n",
              "2006-04-01 01:00:00     9.355556  1.143853e+09  2.588190e-01  0.965926   \n",
              "2006-04-01 02:00:00     9.377778  1.143857e+09  5.000000e-01  0.866025   \n",
              "2006-04-01 03:00:00     8.288889  1.143860e+09  7.071068e-01  0.707107   \n",
              "2006-04-01 04:00:00     8.755556  1.143864e+09  8.660254e-01  0.500000   \n",
              "\n",
              "                     Year sin  Year cos  \n",
              "Date                                     \n",
              "2006-04-01 00:00:00  0.999840  0.017901  \n",
              "2006-04-01 01:00:00  0.999852  0.017184  \n",
              "2006-04-01 02:00:00  0.999864  0.016467  \n",
              "2006-04-01 03:00:00  0.999876  0.015751  \n",
              "2006-04-01 04:00:00  0.999887  0.015034  "
            ],
            "text/html": [
              "\n",
              "  <div id=\"df-5ca0beb1-734a-4c7c-b7ab-74338ac46012\">\n",
              "    <div class=\"colab-df-container\">\n",
              "      <div>\n",
              "<style scoped>\n",
              "    .dataframe tbody tr th:only-of-type {\n",
              "        vertical-align: middle;\n",
              "    }\n",
              "\n",
              "    .dataframe tbody tr th {\n",
              "        vertical-align: top;\n",
              "    }\n",
              "\n",
              "    .dataframe thead th {\n",
              "        text-align: right;\n",
              "    }\n",
              "</style>\n",
              "<table border=\"1\" class=\"dataframe\">\n",
              "  <thead>\n",
              "    <tr style=\"text-align: right;\">\n",
              "      <th></th>\n",
              "      <th>Temperature</th>\n",
              "      <th>Seconds</th>\n",
              "      <th>Day sin</th>\n",
              "      <th>Day cos</th>\n",
              "      <th>Year sin</th>\n",
              "      <th>Year cos</th>\n",
              "    </tr>\n",
              "    <tr>\n",
              "      <th>Date</th>\n",
              "      <th></th>\n",
              "      <th></th>\n",
              "      <th></th>\n",
              "      <th></th>\n",
              "      <th></th>\n",
              "      <th></th>\n",
              "    </tr>\n",
              "  </thead>\n",
              "  <tbody>\n",
              "    <tr>\n",
              "      <th>2006-04-01 00:00:00</th>\n",
              "      <td>9.472222</td>\n",
              "      <td>1.143850e+09</td>\n",
              "      <td>-4.187642e-12</td>\n",
              "      <td>1.000000</td>\n",
              "      <td>0.999840</td>\n",
              "      <td>0.017901</td>\n",
              "    </tr>\n",
              "    <tr>\n",
              "      <th>2006-04-01 01:00:00</th>\n",
              "      <td>9.355556</td>\n",
              "      <td>1.143853e+09</td>\n",
              "      <td>2.588190e-01</td>\n",
              "      <td>0.965926</td>\n",
              "      <td>0.999852</td>\n",
              "      <td>0.017184</td>\n",
              "    </tr>\n",
              "    <tr>\n",
              "      <th>2006-04-01 02:00:00</th>\n",
              "      <td>9.377778</td>\n",
              "      <td>1.143857e+09</td>\n",
              "      <td>5.000000e-01</td>\n",
              "      <td>0.866025</td>\n",
              "      <td>0.999864</td>\n",
              "      <td>0.016467</td>\n",
              "    </tr>\n",
              "    <tr>\n",
              "      <th>2006-04-01 03:00:00</th>\n",
              "      <td>8.288889</td>\n",
              "      <td>1.143860e+09</td>\n",
              "      <td>7.071068e-01</td>\n",
              "      <td>0.707107</td>\n",
              "      <td>0.999876</td>\n",
              "      <td>0.015751</td>\n",
              "    </tr>\n",
              "    <tr>\n",
              "      <th>2006-04-01 04:00:00</th>\n",
              "      <td>8.755556</td>\n",
              "      <td>1.143864e+09</td>\n",
              "      <td>8.660254e-01</td>\n",
              "      <td>0.500000</td>\n",
              "      <td>0.999887</td>\n",
              "      <td>0.015034</td>\n",
              "    </tr>\n",
              "  </tbody>\n",
              "</table>\n",
              "</div>\n",
              "      <button class=\"colab-df-convert\" onclick=\"convertToInteractive('df-5ca0beb1-734a-4c7c-b7ab-74338ac46012')\"\n",
              "              title=\"Convert this dataframe to an interactive table.\"\n",
              "              style=\"display:none;\">\n",
              "        \n",
              "  <svg xmlns=\"http://www.w3.org/2000/svg\" height=\"24px\"viewBox=\"0 0 24 24\"\n",
              "       width=\"24px\">\n",
              "    <path d=\"M0 0h24v24H0V0z\" fill=\"none\"/>\n",
              "    <path d=\"M18.56 5.44l.94 2.06.94-2.06 2.06-.94-2.06-.94-.94-2.06-.94 2.06-2.06.94zm-11 1L8.5 8.5l.94-2.06 2.06-.94-2.06-.94L8.5 2.5l-.94 2.06-2.06.94zm10 10l.94 2.06.94-2.06 2.06-.94-2.06-.94-.94-2.06-.94 2.06-2.06.94z\"/><path d=\"M17.41 7.96l-1.37-1.37c-.4-.4-.92-.59-1.43-.59-.52 0-1.04.2-1.43.59L10.3 9.45l-7.72 7.72c-.78.78-.78 2.05 0 2.83L4 21.41c.39.39.9.59 1.41.59.51 0 1.02-.2 1.41-.59l7.78-7.78 2.81-2.81c.8-.78.8-2.07 0-2.86zM5.41 20L4 18.59l7.72-7.72 1.47 1.35L5.41 20z\"/>\n",
              "  </svg>\n",
              "      </button>\n",
              "      \n",
              "  <style>\n",
              "    .colab-df-container {\n",
              "      display:flex;\n",
              "      flex-wrap:wrap;\n",
              "      gap: 12px;\n",
              "    }\n",
              "\n",
              "    .colab-df-convert {\n",
              "      background-color: #E8F0FE;\n",
              "      border: none;\n",
              "      border-radius: 50%;\n",
              "      cursor: pointer;\n",
              "      display: none;\n",
              "      fill: #1967D2;\n",
              "      height: 32px;\n",
              "      padding: 0 0 0 0;\n",
              "      width: 32px;\n",
              "    }\n",
              "\n",
              "    .colab-df-convert:hover {\n",
              "      background-color: #E2EBFA;\n",
              "      box-shadow: 0px 1px 2px rgba(60, 64, 67, 0.3), 0px 1px 3px 1px rgba(60, 64, 67, 0.15);\n",
              "      fill: #174EA6;\n",
              "    }\n",
              "\n",
              "    [theme=dark] .colab-df-convert {\n",
              "      background-color: #3B4455;\n",
              "      fill: #D2E3FC;\n",
              "    }\n",
              "\n",
              "    [theme=dark] .colab-df-convert:hover {\n",
              "      background-color: #434B5C;\n",
              "      box-shadow: 0px 1px 3px 1px rgba(0, 0, 0, 0.15);\n",
              "      filter: drop-shadow(0px 1px 2px rgba(0, 0, 0, 0.3));\n",
              "      fill: #FFFFFF;\n",
              "    }\n",
              "  </style>\n",
              "\n",
              "      <script>\n",
              "        const buttonEl =\n",
              "          document.querySelector('#df-5ca0beb1-734a-4c7c-b7ab-74338ac46012 button.colab-df-convert');\n",
              "        buttonEl.style.display =\n",
              "          google.colab.kernel.accessAllowed ? 'block' : 'none';\n",
              "\n",
              "        async function convertToInteractive(key) {\n",
              "          const element = document.querySelector('#df-5ca0beb1-734a-4c7c-b7ab-74338ac46012');\n",
              "          const dataTable =\n",
              "            await google.colab.kernel.invokeFunction('convertToInteractive',\n",
              "                                                     [key], {});\n",
              "          if (!dataTable) return;\n",
              "\n",
              "          const docLinkHtml = 'Like what you see? Visit the ' +\n",
              "            '<a target=\"_blank\" href=https://colab.research.google.com/notebooks/data_table.ipynb>data table notebook</a>'\n",
              "            + ' to learn more about interactive tables.';\n",
              "          element.innerHTML = '';\n",
              "          dataTable['output_type'] = 'display_data';\n",
              "          await google.colab.output.renderOutput(dataTable, element);\n",
              "          const docLink = document.createElement('div');\n",
              "          docLink.innerHTML = docLinkHtml;\n",
              "          element.appendChild(docLink);\n",
              "        }\n",
              "      </script>\n",
              "    </div>\n",
              "  </div>\n",
              "  "
            ]
          },
          "metadata": {},
          "execution_count": 27
        }
      ]
    },
    {
      "cell_type": "code",
      "source": [
        "temp_df = temp_df.drop('Seconds', axis=1)\n",
        "temp_df.head()"
      ],
      "metadata": {
        "colab": {
          "base_uri": "https://localhost:8080/",
          "height": 237
        },
        "id": "xUhaWUjGvCyB",
        "outputId": "00275906-ef88-4a0c-dd39-27dea746ebbe"
      },
      "execution_count": null,
      "outputs": [
        {
          "output_type": "execute_result",
          "data": {
            "text/plain": [
              "                     Temperature       Day sin   Day cos  Year sin  Year cos\n",
              "Date                                                                        \n",
              "2006-04-01 00:00:00     9.472222 -4.187642e-12  1.000000  0.999840  0.017901\n",
              "2006-04-01 01:00:00     9.355556  2.588190e-01  0.965926  0.999852  0.017184\n",
              "2006-04-01 02:00:00     9.377778  5.000000e-01  0.866025  0.999864  0.016467\n",
              "2006-04-01 03:00:00     8.288889  7.071068e-01  0.707107  0.999876  0.015751\n",
              "2006-04-01 04:00:00     8.755556  8.660254e-01  0.500000  0.999887  0.015034"
            ],
            "text/html": [
              "\n",
              "  <div id=\"df-d7d4d5e7-954f-4dbb-8c5c-db0856cf8d52\">\n",
              "    <div class=\"colab-df-container\">\n",
              "      <div>\n",
              "<style scoped>\n",
              "    .dataframe tbody tr th:only-of-type {\n",
              "        vertical-align: middle;\n",
              "    }\n",
              "\n",
              "    .dataframe tbody tr th {\n",
              "        vertical-align: top;\n",
              "    }\n",
              "\n",
              "    .dataframe thead th {\n",
              "        text-align: right;\n",
              "    }\n",
              "</style>\n",
              "<table border=\"1\" class=\"dataframe\">\n",
              "  <thead>\n",
              "    <tr style=\"text-align: right;\">\n",
              "      <th></th>\n",
              "      <th>Temperature</th>\n",
              "      <th>Day sin</th>\n",
              "      <th>Day cos</th>\n",
              "      <th>Year sin</th>\n",
              "      <th>Year cos</th>\n",
              "    </tr>\n",
              "    <tr>\n",
              "      <th>Date</th>\n",
              "      <th></th>\n",
              "      <th></th>\n",
              "      <th></th>\n",
              "      <th></th>\n",
              "      <th></th>\n",
              "    </tr>\n",
              "  </thead>\n",
              "  <tbody>\n",
              "    <tr>\n",
              "      <th>2006-04-01 00:00:00</th>\n",
              "      <td>9.472222</td>\n",
              "      <td>-4.187642e-12</td>\n",
              "      <td>1.000000</td>\n",
              "      <td>0.999840</td>\n",
              "      <td>0.017901</td>\n",
              "    </tr>\n",
              "    <tr>\n",
              "      <th>2006-04-01 01:00:00</th>\n",
              "      <td>9.355556</td>\n",
              "      <td>2.588190e-01</td>\n",
              "      <td>0.965926</td>\n",
              "      <td>0.999852</td>\n",
              "      <td>0.017184</td>\n",
              "    </tr>\n",
              "    <tr>\n",
              "      <th>2006-04-01 02:00:00</th>\n",
              "      <td>9.377778</td>\n",
              "      <td>5.000000e-01</td>\n",
              "      <td>0.866025</td>\n",
              "      <td>0.999864</td>\n",
              "      <td>0.016467</td>\n",
              "    </tr>\n",
              "    <tr>\n",
              "      <th>2006-04-01 03:00:00</th>\n",
              "      <td>8.288889</td>\n",
              "      <td>7.071068e-01</td>\n",
              "      <td>0.707107</td>\n",
              "      <td>0.999876</td>\n",
              "      <td>0.015751</td>\n",
              "    </tr>\n",
              "    <tr>\n",
              "      <th>2006-04-01 04:00:00</th>\n",
              "      <td>8.755556</td>\n",
              "      <td>8.660254e-01</td>\n",
              "      <td>0.500000</td>\n",
              "      <td>0.999887</td>\n",
              "      <td>0.015034</td>\n",
              "    </tr>\n",
              "  </tbody>\n",
              "</table>\n",
              "</div>\n",
              "      <button class=\"colab-df-convert\" onclick=\"convertToInteractive('df-d7d4d5e7-954f-4dbb-8c5c-db0856cf8d52')\"\n",
              "              title=\"Convert this dataframe to an interactive table.\"\n",
              "              style=\"display:none;\">\n",
              "        \n",
              "  <svg xmlns=\"http://www.w3.org/2000/svg\" height=\"24px\"viewBox=\"0 0 24 24\"\n",
              "       width=\"24px\">\n",
              "    <path d=\"M0 0h24v24H0V0z\" fill=\"none\"/>\n",
              "    <path d=\"M18.56 5.44l.94 2.06.94-2.06 2.06-.94-2.06-.94-.94-2.06-.94 2.06-2.06.94zm-11 1L8.5 8.5l.94-2.06 2.06-.94-2.06-.94L8.5 2.5l-.94 2.06-2.06.94zm10 10l.94 2.06.94-2.06 2.06-.94-2.06-.94-.94-2.06-.94 2.06-2.06.94z\"/><path d=\"M17.41 7.96l-1.37-1.37c-.4-.4-.92-.59-1.43-.59-.52 0-1.04.2-1.43.59L10.3 9.45l-7.72 7.72c-.78.78-.78 2.05 0 2.83L4 21.41c.39.39.9.59 1.41.59.51 0 1.02-.2 1.41-.59l7.78-7.78 2.81-2.81c.8-.78.8-2.07 0-2.86zM5.41 20L4 18.59l7.72-7.72 1.47 1.35L5.41 20z\"/>\n",
              "  </svg>\n",
              "      </button>\n",
              "      \n",
              "  <style>\n",
              "    .colab-df-container {\n",
              "      display:flex;\n",
              "      flex-wrap:wrap;\n",
              "      gap: 12px;\n",
              "    }\n",
              "\n",
              "    .colab-df-convert {\n",
              "      background-color: #E8F0FE;\n",
              "      border: none;\n",
              "      border-radius: 50%;\n",
              "      cursor: pointer;\n",
              "      display: none;\n",
              "      fill: #1967D2;\n",
              "      height: 32px;\n",
              "      padding: 0 0 0 0;\n",
              "      width: 32px;\n",
              "    }\n",
              "\n",
              "    .colab-df-convert:hover {\n",
              "      background-color: #E2EBFA;\n",
              "      box-shadow: 0px 1px 2px rgba(60, 64, 67, 0.3), 0px 1px 3px 1px rgba(60, 64, 67, 0.15);\n",
              "      fill: #174EA6;\n",
              "    }\n",
              "\n",
              "    [theme=dark] .colab-df-convert {\n",
              "      background-color: #3B4455;\n",
              "      fill: #D2E3FC;\n",
              "    }\n",
              "\n",
              "    [theme=dark] .colab-df-convert:hover {\n",
              "      background-color: #434B5C;\n",
              "      box-shadow: 0px 1px 3px 1px rgba(0, 0, 0, 0.15);\n",
              "      filter: drop-shadow(0px 1px 2px rgba(0, 0, 0, 0.3));\n",
              "      fill: #FFFFFF;\n",
              "    }\n",
              "  </style>\n",
              "\n",
              "      <script>\n",
              "        const buttonEl =\n",
              "          document.querySelector('#df-d7d4d5e7-954f-4dbb-8c5c-db0856cf8d52 button.colab-df-convert');\n",
              "        buttonEl.style.display =\n",
              "          google.colab.kernel.accessAllowed ? 'block' : 'none';\n",
              "\n",
              "        async function convertToInteractive(key) {\n",
              "          const element = document.querySelector('#df-d7d4d5e7-954f-4dbb-8c5c-db0856cf8d52');\n",
              "          const dataTable =\n",
              "            await google.colab.kernel.invokeFunction('convertToInteractive',\n",
              "                                                     [key], {});\n",
              "          if (!dataTable) return;\n",
              "\n",
              "          const docLinkHtml = 'Like what you see? Visit the ' +\n",
              "            '<a target=\"_blank\" href=https://colab.research.google.com/notebooks/data_table.ipynb>data table notebook</a>'\n",
              "            + ' to learn more about interactive tables.';\n",
              "          element.innerHTML = '';\n",
              "          dataTable['output_type'] = 'display_data';\n",
              "          await google.colab.output.renderOutput(dataTable, element);\n",
              "          const docLink = document.createElement('div');\n",
              "          docLink.innerHTML = docLinkHtml;\n",
              "          element.appendChild(docLink);\n",
              "        }\n",
              "      </script>\n",
              "    </div>\n",
              "  </div>\n",
              "  "
            ]
          },
          "metadata": {},
          "execution_count": 28
        }
      ]
    },
    {
      "cell_type": "code",
      "source": [
        "def df_to_X_y2(df, window_size=6):\n",
        "  df_as_np = df.to_numpy()\n",
        "  X = []\n",
        "  y = []\n",
        "  for i in range(len(df_as_np)-window_size):\n",
        "    row = [r for r in df_as_np[i:i+window_size]]\n",
        "    X.append(row)\n",
        "    label = df_as_np[i+window_size][0]\n",
        "    y.append(label)\n",
        "  return np.array(X), np.array(y)"
      ],
      "metadata": {
        "id": "fckZHWybwKGl"
      },
      "execution_count": null,
      "outputs": []
    },
    {
      "cell_type": "code",
      "source": [
        "X2, y2 = df_to_X_y2(temp_df)\n",
        "X2.shape, y2.shape"
      ],
      "metadata": {
        "colab": {
          "base_uri": "https://localhost:8080/"
        },
        "id": "ldUacFaLzGzG",
        "outputId": "c7feef9d-0c16-4837-bf7c-66914622d149"
      },
      "execution_count": null,
      "outputs": [
        {
          "output_type": "execute_result",
          "data": {
            "text/plain": [
              "((96447, 6, 5), (96447,))"
            ]
          },
          "metadata": {},
          "execution_count": 30
        }
      ]
    },
    {
      "cell_type": "code",
      "source": [
        "X2_train, y2_train = X2[:75000], y2[:75000]\n",
        "X2_val, y2_val = X2[75000:85000], y2[75000:85000]\n",
        "X2_test, y2_test = X2[85000:], y2[85000:]\n",
        "X2_train.shape, y2_train.shape, X2_val.shape, y2_val.shape, X2_test.shape, y2_test.shape"
      ],
      "metadata": {
        "colab": {
          "base_uri": "https://localhost:8080/"
        },
        "id": "unGCk7FUzL9-",
        "outputId": "0b8cd65e-d9e4-4c53-b263-1f9d06cec9a6"
      },
      "execution_count": null,
      "outputs": [
        {
          "output_type": "execute_result",
          "data": {
            "text/plain": [
              "((75000, 6, 5), (75000,), (10000, 6, 5), (10000,), (11447, 6, 5), (11447,))"
            ]
          },
          "metadata": {},
          "execution_count": 31
        }
      ]
    },
    {
      "cell_type": "code",
      "source": [
        "temp_training_mean = np.mean(X2_train[:, :, 0])\n",
        "temp_training_std = np.std(X2_train[:, :, 0])\n",
        "                           \n",
        "def preprocess(X):\n",
        "  X[:, :, 0] = (X[:, :, 0] - temp_training_mean) / temp_training_std\n",
        "  return X"
      ],
      "metadata": {
        "id": "qDrgBxh0zgC3"
      },
      "execution_count": null,
      "outputs": []
    },
    {
      "cell_type": "code",
      "source": [
        "preprocess(X2_train)\n",
        "preprocess(X2_val)\n",
        "preprocess(X2_test)"
      ],
      "metadata": {
        "id": "ufM-dUti34es"
      },
      "execution_count": null,
      "outputs": []
    },
    {
      "cell_type": "code",
      "source": [
        "model4 = Sequential()\n",
        "model4.add(InputLayer((6, 5)))\n",
        "model4.add(LSTM(64))\n",
        "model4.add(Dense(8, 'relu'))\n",
        "model4.add(Dense(1, 'linear'))\n",
        "\n",
        "model4.summary()"
      ],
      "metadata": {
        "colab": {
          "base_uri": "https://localhost:8080/"
        },
        "id": "dD45TbPg4EDc",
        "outputId": "b2cb77de-b1bd-437b-a074-6ba0a316b11d"
      },
      "execution_count": null,
      "outputs": [
        {
          "output_type": "stream",
          "name": "stdout",
          "text": [
            "Model: \"sequential_1\"\n",
            "_________________________________________________________________\n",
            " Layer (type)                Output Shape              Param #   \n",
            "=================================================================\n",
            " lstm_1 (LSTM)               (None, 64)                17920     \n",
            "                                                                 \n",
            " dense_2 (Dense)             (None, 8)                 520       \n",
            "                                                                 \n",
            " dense_3 (Dense)             (None, 1)                 9         \n",
            "                                                                 \n",
            "=================================================================\n",
            "Total params: 18,449\n",
            "Trainable params: 18,449\n",
            "Non-trainable params: 0\n",
            "_________________________________________________________________\n"
          ]
        }
      ]
    },
    {
      "cell_type": "code",
      "source": [
        "cp4 = ModelCheckpoint('model4/', save_best_only=True)\n",
        "model4.compile(loss=MeanSquaredError(), optimizer=Adam(learning_rate=0.0001), metrics=[RootMeanSquaredError()])"
      ],
      "metadata": {
        "id": "gdzTqcBk4eY6"
      },
      "execution_count": null,
      "outputs": []
    },
    {
      "cell_type": "code",
      "source": [
        "model4.fit(X2_train, y2_train, validation_data=(X2_val, y2_val), epochs=10, callbacks=[cp4])"
      ],
      "metadata": {
        "colab": {
          "base_uri": "https://localhost:8080/"
        },
        "id": "MEAq4YTx4kxO",
        "outputId": "9c8e438d-64ed-4ee1-8fe1-7f4fb9b0a155"
      },
      "execution_count": null,
      "outputs": [
        {
          "output_type": "stream",
          "name": "stdout",
          "text": [
            "Epoch 1/10\n",
            "2341/2344 [============================>.] - ETA: 0s - loss: 47.3873 - root_mean_squared_error: 6.8838"
          ]
        },
        {
          "output_type": "stream",
          "name": "stderr",
          "text": [
            "WARNING:absl:Found untraced functions such as lstm_cell_2_layer_call_fn, lstm_cell_2_layer_call_and_return_conditional_losses while saving (showing 2 of 2). These functions will not be directly callable after loading.\n"
          ]
        },
        {
          "output_type": "stream",
          "name": "stdout",
          "text": [
            "\b\b\b\b\b\b\b\b\b\b\b\b\b\b\b\b\b\b\b\b\b\b\b\b\b\b\b\b\b\b\b\b\b\b\b\b\b\b\b\b\b\b\b\b\b\b\b\b\b\b\b\b\b\b\b\b\b\b\b\b\b\b\b\b\b\b\b\b\b\b\b\b\b\b\b\b\b\b\b\b\b\b\b\b\b\b\b\b\b\b\b\b\b\b\b\b\b\b\b\b\b\b\r2344/2344 [==============================] - 16s 6ms/step - loss: 47.3415 - root_mean_squared_error: 6.8805 - val_loss: 6.3952 - val_root_mean_squared_error: 2.5289\n",
            "Epoch 2/10\n",
            "2341/2344 [============================>.] - ETA: 0s - loss: 4.8739 - root_mean_squared_error: 2.2077"
          ]
        },
        {
          "output_type": "stream",
          "name": "stderr",
          "text": [
            "WARNING:absl:Found untraced functions such as lstm_cell_2_layer_call_fn, lstm_cell_2_layer_call_and_return_conditional_losses while saving (showing 2 of 2). These functions will not be directly callable after loading.\n"
          ]
        },
        {
          "output_type": "stream",
          "name": "stdout",
          "text": [
            "\b\b\b\b\b\b\b\b\b\b\b\b\b\b\b\b\b\b\b\b\b\b\b\b\b\b\b\b\b\b\b\b\b\b\b\b\b\b\b\b\b\b\b\b\b\b\b\b\b\b\b\b\b\b\b\b\b\b\b\b\b\b\b\b\b\b\b\b\b\b\b\b\b\b\b\b\b\b\b\b\b\b\b\b\b\b\b\b\b\b\b\b\b\b\b\b\b\b\b\b\b\r2344/2344 [==============================] - 15s 6ms/step - loss: 4.8708 - root_mean_squared_error: 2.2070 - val_loss: 2.5078 - val_root_mean_squared_error: 1.5836\n",
            "Epoch 3/10\n",
            "2342/2344 [============================>.] - ETA: 0s - loss: 2.5409 - root_mean_squared_error: 1.5940"
          ]
        },
        {
          "output_type": "stream",
          "name": "stderr",
          "text": [
            "WARNING:absl:Found untraced functions such as lstm_cell_2_layer_call_fn, lstm_cell_2_layer_call_and_return_conditional_losses while saving (showing 2 of 2). These functions will not be directly callable after loading.\n"
          ]
        },
        {
          "output_type": "stream",
          "name": "stdout",
          "text": [
            "\b\b\b\b\b\b\b\b\b\b\b\b\b\b\b\b\b\b\b\b\b\b\b\b\b\b\b\b\b\b\b\b\b\b\b\b\b\b\b\b\b\b\b\b\b\b\b\b\b\b\b\b\b\b\b\b\b\b\b\b\b\b\b\b\b\b\b\b\b\b\b\b\b\b\b\b\b\b\b\b\b\b\b\b\b\b\b\b\b\b\b\b\b\b\b\b\b\b\b\b\b\r2344/2344 [==============================] - 15s 6ms/step - loss: 2.5405 - root_mean_squared_error: 1.5939 - val_loss: 1.6189 - val_root_mean_squared_error: 1.2724\n",
            "Epoch 4/10\n",
            "2343/2344 [============================>.] - ETA: 0s - loss: 2.0483 - root_mean_squared_error: 1.4312"
          ]
        },
        {
          "output_type": "stream",
          "name": "stderr",
          "text": [
            "WARNING:absl:Found untraced functions such as lstm_cell_2_layer_call_fn, lstm_cell_2_layer_call_and_return_conditional_losses while saving (showing 2 of 2). These functions will not be directly callable after loading.\n"
          ]
        },
        {
          "output_type": "stream",
          "name": "stdout",
          "text": [
            "\b\b\b\b\b\b\b\b\b\b\b\b\b\b\b\b\b\b\b\b\b\b\b\b\b\b\b\b\b\b\b\b\b\b\b\b\b\b\b\b\b\b\b\b\b\b\b\b\b\b\b\b\b\b\b\b\b\b\b\b\b\b\b\b\b\b\b\b\b\b\b\b\b\b\b\b\b\b\b\b\b\b\b\b\b\b\b\b\b\b\b\b\b\b\b\b\b\b\b\b\b\r2344/2344 [==============================] - 14s 6ms/step - loss: 2.0479 - root_mean_squared_error: 1.4310 - val_loss: 1.3401 - val_root_mean_squared_error: 1.1576\n",
            "Epoch 5/10\n",
            "2334/2344 [============================>.] - ETA: 0s - loss: 1.8207 - root_mean_squared_error: 1.3493"
          ]
        },
        {
          "output_type": "stream",
          "name": "stderr",
          "text": [
            "WARNING:absl:Found untraced functions such as lstm_cell_2_layer_call_fn, lstm_cell_2_layer_call_and_return_conditional_losses while saving (showing 2 of 2). These functions will not be directly callable after loading.\n"
          ]
        },
        {
          "output_type": "stream",
          "name": "stdout",
          "text": [
            "\b\b\b\b\b\b\b\b\b\b\b\b\b\b\b\b\b\b\b\b\b\b\b\b\b\b\b\b\b\b\b\b\b\b\b\b\b\b\b\b\b\b\b\b\b\b\b\b\b\b\b\b\b\b\b\b\b\b\b\b\b\b\b\b\b\b\b\b\b\b\b\b\b\b\b\b\b\b\b\b\b\b\b\b\b\b\b\b\b\b\b\b\b\b\b\b\b\b\b\b\b\r2344/2344 [==============================] - 15s 6ms/step - loss: 1.8224 - root_mean_squared_error: 1.3500 - val_loss: 1.2248 - val_root_mean_squared_error: 1.1067\n",
            "Epoch 6/10\n",
            "2343/2344 [============================>.] - ETA: 0s - loss: 1.7119 - root_mean_squared_error: 1.3084"
          ]
        },
        {
          "output_type": "stream",
          "name": "stderr",
          "text": [
            "WARNING:absl:Found untraced functions such as lstm_cell_2_layer_call_fn, lstm_cell_2_layer_call_and_return_conditional_losses while saving (showing 2 of 2). These functions will not be directly callable after loading.\n"
          ]
        },
        {
          "output_type": "stream",
          "name": "stdout",
          "text": [
            "\b\b\b\b\b\b\b\b\b\b\b\b\b\b\b\b\b\b\b\b\b\b\b\b\b\b\b\b\b\b\b\b\b\b\b\b\b\b\b\b\b\b\b\b\b\b\b\b\b\b\b\b\b\b\b\b\b\b\b\b\b\b\b\b\b\b\b\b\b\b\b\b\b\b\b\b\b\b\b\b\b\b\b\b\b\b\b\b\b\b\b\b\b\b\b\b\b\b\b\b\b\r2344/2344 [==============================] - 15s 6ms/step - loss: 1.7119 - root_mean_squared_error: 1.3084 - val_loss: 1.1272 - val_root_mean_squared_error: 1.0617\n",
            "Epoch 7/10\n",
            "2338/2344 [============================>.] - ETA: 0s - loss: 1.6652 - root_mean_squared_error: 1.2904"
          ]
        },
        {
          "output_type": "stream",
          "name": "stderr",
          "text": [
            "WARNING:absl:Found untraced functions such as lstm_cell_2_layer_call_fn, lstm_cell_2_layer_call_and_return_conditional_losses while saving (showing 2 of 2). These functions will not be directly callable after loading.\n"
          ]
        },
        {
          "output_type": "stream",
          "name": "stdout",
          "text": [
            "\b\b\b\b\b\b\b\b\b\b\b\b\b\b\b\b\b\b\b\b\b\b\b\b\b\b\b\b\b\b\b\b\b\b\b\b\b\b\b\b\b\b\b\b\b\b\b\b\b\b\b\b\b\b\b\b\b\b\b\b\b\b\b\b\b\b\b\b\b\b\b\b\b\b\b\b\b\b\b\b\b\b\b\b\b\b\b\b\b\b\b\b\b\b\b\b\b\b\b\b\b\r2344/2344 [==============================] - 15s 6ms/step - loss: 1.6646 - root_mean_squared_error: 1.2902 - val_loss: 1.0810 - val_root_mean_squared_error: 1.0397\n",
            "Epoch 8/10\n",
            "2337/2344 [============================>.] - ETA: 0s - loss: 1.6344 - root_mean_squared_error: 1.2784"
          ]
        },
        {
          "output_type": "stream",
          "name": "stderr",
          "text": [
            "WARNING:absl:Found untraced functions such as lstm_cell_2_layer_call_fn, lstm_cell_2_layer_call_and_return_conditional_losses while saving (showing 2 of 2). These functions will not be directly callable after loading.\n"
          ]
        },
        {
          "output_type": "stream",
          "name": "stdout",
          "text": [
            "\b\b\b\b\b\b\b\b\b\b\b\b\b\b\b\b\b\b\b\b\b\b\b\b\b\b\b\b\b\b\b\b\b\b\b\b\b\b\b\b\b\b\b\b\b\b\b\b\b\b\b\b\b\b\b\b\b\b\b\b\b\b\b\b\b\b\b\b\b\b\b\b\b\b\b\b\b\b\b\b\b\b\b\b\b\b\b\b\b\b\b\b\b\b\b\b\b\b\b\b\b\r2344/2344 [==============================] - 15s 6ms/step - loss: 1.6326 - root_mean_squared_error: 1.2777 - val_loss: 1.0800 - val_root_mean_squared_error: 1.0392\n",
            "Epoch 9/10\n",
            "2338/2344 [============================>.] - ETA: 0s - loss: 1.6231 - root_mean_squared_error: 1.2740"
          ]
        },
        {
          "output_type": "stream",
          "name": "stderr",
          "text": [
            "WARNING:absl:Found untraced functions such as lstm_cell_2_layer_call_fn, lstm_cell_2_layer_call_and_return_conditional_losses while saving (showing 2 of 2). These functions will not be directly callable after loading.\n"
          ]
        },
        {
          "output_type": "stream",
          "name": "stdout",
          "text": [
            "\b\b\b\b\b\b\b\b\b\b\b\b\b\b\b\b\b\b\b\b\b\b\b\b\b\b\b\b\b\b\b\b\b\b\b\b\b\b\b\b\b\b\b\b\b\b\b\b\b\b\b\b\b\b\b\b\b\b\b\b\b\b\b\b\b\b\b\b\b\b\b\b\b\b\b\b\b\b\b\b\b\b\b\b\b\b\b\b\b\b\b\b\b\b\b\b\b\b\b\b\b\r2344/2344 [==============================] - 15s 6ms/step - loss: 1.6210 - root_mean_squared_error: 1.2732 - val_loss: 1.0450 - val_root_mean_squared_error: 1.0223\n",
            "Epoch 10/10\n",
            "2332/2344 [============================>.] - ETA: 0s - loss: 1.6056 - root_mean_squared_error: 1.2671"
          ]
        },
        {
          "output_type": "stream",
          "name": "stderr",
          "text": [
            "WARNING:absl:Found untraced functions such as lstm_cell_2_layer_call_fn, lstm_cell_2_layer_call_and_return_conditional_losses while saving (showing 2 of 2). These functions will not be directly callable after loading.\n"
          ]
        },
        {
          "output_type": "stream",
          "name": "stdout",
          "text": [
            "\b\b\b\b\b\b\b\b\b\b\b\b\b\b\b\b\b\b\b\b\b\b\b\b\b\b\b\b\b\b\b\b\b\b\b\b\b\b\b\b\b\b\b\b\b\b\b\b\b\b\b\b\b\b\b\b\b\b\b\b\b\b\b\b\b\b\b\b\b\b\b\b\b\b\b\b\b\b\b\b\b\b\b\b\b\b\b\b\b\b\b\b\b\b\b\b\b\b\b\b\b\r2344/2344 [==============================] - 14s 6ms/step - loss: 1.6032 - root_mean_squared_error: 1.2662 - val_loss: 1.0438 - val_root_mean_squared_error: 1.0217\n"
          ]
        },
        {
          "output_type": "execute_result",
          "data": {
            "text/plain": [
              "<keras.callbacks.History at 0x7f62601dbad0>"
            ]
          },
          "metadata": {},
          "execution_count": 36
        }
      ]
    },
    {
      "cell_type": "code",
      "source": [
        "plot_predictions1(model4, X2_test, y2_test)"
      ],
      "metadata": {
        "colab": {
          "base_uri": "https://localhost:8080/",
          "height": 537
        },
        "id": "NjIaLN8B5Kc-",
        "outputId": "c44c4e91-ab75-4c07-ecd2-ff10b4fe6c03"
      },
      "execution_count": null,
      "outputs": [
        {
          "output_type": "stream",
          "name": "stdout",
          "text": [
            "358/358 [==============================] - 2s 3ms/step\n"
          ]
        },
        {
          "output_type": "execute_result",
          "data": {
            "text/plain": [
              "(       Predictions    Actuals\n",
              " 0        13.512703  14.566667\n",
              " 1        13.718115  14.466667\n",
              " 2        13.774035  13.844444\n",
              " 3        13.628325  12.922222\n",
              " 4        13.303665  12.733333\n",
              " ...            ...        ...\n",
              " 11442    25.960705  26.016667\n",
              " 11443    23.266672  24.583333\n",
              " 11444    22.253429  22.038889\n",
              " 11445    20.507057  21.522222\n",
              " 11446    20.144968  20.438889\n",
              " \n",
              " [11447 rows x 2 columns], 1.0267760866188675)"
            ]
          },
          "metadata": {},
          "execution_count": 37
        },
        {
          "output_type": "display_data",
          "data": {
            "text/plain": [
              "<Figure size 432x288 with 1 Axes>"
            ],
            "image/png": "[encoded data removed]"
          },
          "metadata": {
            "needs_background": "light"
          }
        }
      ]
    },
    {
      "cell_type": "code",
      "source": [],
      "metadata": {
        "id": "hx_sRePvOjTX"
      },
      "execution_count": null,
      "outputs": []
    },
    {
      "cell_type": "code",
      "source": [],
      "metadata": {
        "id": "9krKpsg0OkJT"
      },
      "execution_count": null,
      "outputs": []
    }
  ]
}